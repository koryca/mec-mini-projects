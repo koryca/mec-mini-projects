{
  "nbformat": 4,
  "nbformat_minor": 0,
  "metadata": {
    "kernelspec": {
      "display_name": "Python 3",
      "language": "python",
      "name": "python3"
    },
    "language_info": {
      "codemirror_mode": {
        "name": "ipython",
        "version": 3
      },
      "file_extension": ".py",
      "mimetype": "text/x-python",
      "name": "python",
      "nbconvert_exporter": "python",
      "pygments_lexer": "ipython3",
      "version": "3.7.6-final"
    },
    "colab": {
      "name": "Mini_Project_Data_Wrangling_Pandas.ipynb",
      "provenance": []
    }
  },
  "cells": [
    {
      "cell_type": "markdown",
      "metadata": {
        "id": "7-D2z2JoLZyq"
      },
      "source": [
        "# Mini-Project: Data Wrangling and Transformation with Pandas\n",
        "\n",
        "Working with tabular data is a necessity for anyone with enterprises having a majority of their data in relational databases and flat files. This mini-project is adopted from the excellent tutorial on pandas by Brandon Rhodes which you have watched earlier in the Data Wrangling Unit. In this mini-project, we will be looking at some interesting data based on movie data from the IMDB.\n",
        "\n",
        "This assignment should help you reinforce the concepts you learnt in the curriculum for Data Wrangling and sharpen your skills in using Pandas. Good Luck!"
      ]
    },
    {
      "cell_type": "markdown",
      "metadata": {
        "id": "bBM8XWt5LZys"
      },
      "source": [
        "### Please make sure you have one of the more recent versions of Pandas"
      ]
    },
    {
      "cell_type": "code",
      "metadata": {
        "id": "VT5UXtGmLZyt"
      },
      "source": [
        "import pandas as pd\n",
        "import matplotlib.pyplot as plt\n",
        "\n",
        "%matplotlib inline"
      ],
      "execution_count": 1,
      "outputs": []
    },
    {
      "cell_type": "code",
      "metadata": {
        "colab": {
          "base_uri": "https://localhost:8080/",
          "height": 35
        },
        "id": "O1X3VI5tLZyu",
        "outputId": "ce76f059-095b-4a6b-f6be-645079e091c2"
      },
      "source": [
        "pd.__version__"
      ],
      "execution_count": 2,
      "outputs": [
        {
          "output_type": "execute_result",
          "data": {
            "application/vnd.google.colaboratory.intrinsic+json": {
              "type": "string"
            },
            "text/plain": [
              "'1.1.5'"
            ]
          },
          "metadata": {},
          "execution_count": 2
        }
      ]
    },
    {
      "cell_type": "markdown",
      "metadata": {
        "id": "pGRyPXD_LZyv"
      },
      "source": [
        "## Taking a look at the Movies dataset\n",
        "This data shows the movies based on their title and the year of release"
      ]
    },
    {
      "cell_type": "code",
      "metadata": {
        "colab": {
          "base_uri": "https://localhost:8080/"
        },
        "id": "16XJqBkVLZyw",
        "outputId": "c1efab93-e0a4-4c24-999a-203928021879"
      },
      "source": [
        "movies = pd.read_csv('titles.csv')\n",
        "movies.info()"
      ],
      "execution_count": 4,
      "outputs": [
        {
          "output_type": "stream",
          "name": "stdout",
          "text": [
            "<class 'pandas.core.frame.DataFrame'>\n",
            "RangeIndex: 209284 entries, 0 to 209283\n",
            "Data columns (total 2 columns):\n",
            " #   Column  Non-Null Count   Dtype  \n",
            "---  ------  --------------   -----  \n",
            " 0   title   209284 non-null  object \n",
            " 1   year    209283 non-null  float64\n",
            "dtypes: float64(1), object(1)\n",
            "memory usage: 3.2+ MB\n"
          ]
        }
      ]
    },
    {
      "cell_type": "code",
      "metadata": {
        "colab": {
          "base_uri": "https://localhost:8080/",
          "height": 203
        },
        "id": "Y-uATopzLZyw",
        "outputId": "45f9994d-2d34-4d22-83ce-c0212bccd013"
      },
      "source": [
        "movies.head()"
      ],
      "execution_count": 5,
      "outputs": [
        {
          "output_type": "execute_result",
          "data": {
            "text/html": [
              "<div>\n",
              "<style scoped>\n",
              "    .dataframe tbody tr th:only-of-type {\n",
              "        vertical-align: middle;\n",
              "    }\n",
              "\n",
              "    .dataframe tbody tr th {\n",
              "        vertical-align: top;\n",
              "    }\n",
              "\n",
              "    .dataframe thead th {\n",
              "        text-align: right;\n",
              "    }\n",
              "</style>\n",
              "<table border=\"1\" class=\"dataframe\">\n",
              "  <thead>\n",
              "    <tr style=\"text-align: right;\">\n",
              "      <th></th>\n",
              "      <th>title</th>\n",
              "      <th>year</th>\n",
              "    </tr>\n",
              "  </thead>\n",
              "  <tbody>\n",
              "    <tr>\n",
              "      <th>0</th>\n",
              "      <td>The Ticket to the Life</td>\n",
              "      <td>2009.0</td>\n",
              "    </tr>\n",
              "    <tr>\n",
              "      <th>1</th>\n",
              "      <td>Parallel Worlds: A New Rock Music Experience</td>\n",
              "      <td>2016.0</td>\n",
              "    </tr>\n",
              "    <tr>\n",
              "      <th>2</th>\n",
              "      <td>Morita - La hija de Jesus</td>\n",
              "      <td>2008.0</td>\n",
              "    </tr>\n",
              "    <tr>\n",
              "      <th>3</th>\n",
              "      <td>Gun</td>\n",
              "      <td>2017.0</td>\n",
              "    </tr>\n",
              "    <tr>\n",
              "      <th>4</th>\n",
              "      <td>Love or Nothing at All</td>\n",
              "      <td>2014.0</td>\n",
              "    </tr>\n",
              "  </tbody>\n",
              "</table>\n",
              "</div>"
            ],
            "text/plain": [
              "                                          title    year\n",
              "0                        The Ticket to the Life  2009.0\n",
              "1  Parallel Worlds: A New Rock Music Experience  2016.0\n",
              "2                     Morita - La hija de Jesus  2008.0\n",
              "3                                           Gun  2017.0\n",
              "4                        Love or Nothing at All  2014.0"
            ]
          },
          "metadata": {},
          "execution_count": 5
        }
      ]
    },
    {
      "cell_type": "markdown",
      "metadata": {
        "id": "05BtRvgwLZyx"
      },
      "source": [
        "## Taking a look at the Cast dataset\n",
        "\n",
        "This data shows the cast (actors, actresses, supporting roles) for each movie\n",
        "\n",
        "- The attribute `n` basically tells the importance of the cast role, lower the number, more important the role.\n",
        "- Supporting cast usually don't have any value for `n`"
      ]
    },
    {
      "cell_type": "code",
      "metadata": {
        "colab": {
          "base_uri": "https://localhost:8080/"
        },
        "id": "s9ysUrC3LZyy",
        "outputId": "fa7f4b9d-88ff-4785-efce-4e68056d3d84"
      },
      "source": [
        "cast = pd.read_csv('cast.csv.zip')\n",
        "cast.info()"
      ],
      "execution_count": 6,
      "outputs": [
        {
          "output_type": "stream",
          "name": "stdout",
          "text": [
            "<class 'pandas.core.frame.DataFrame'>\n",
            "RangeIndex: 3786176 entries, 0 to 3786175\n",
            "Data columns (total 6 columns):\n",
            " #   Column     Dtype  \n",
            "---  ------     -----  \n",
            " 0   title      object \n",
            " 1   year       int64  \n",
            " 2   name       object \n",
            " 3   type       object \n",
            " 4   character  object \n",
            " 5   n          float64\n",
            "dtypes: float64(1), int64(1), object(4)\n",
            "memory usage: 173.3+ MB\n"
          ]
        }
      ]
    },
    {
      "cell_type": "code",
      "metadata": {
        "colab": {
          "base_uri": "https://localhost:8080/",
          "height": 357
        },
        "id": "zdPS39MLLZyz",
        "outputId": "1e7160c0-50a8-43a6-8483-914da7a80b4b"
      },
      "source": [
        "cast.head(10)"
      ],
      "execution_count": 7,
      "outputs": [
        {
          "output_type": "execute_result",
          "data": {
            "text/html": [
              "<div>\n",
              "<style scoped>\n",
              "    .dataframe tbody tr th:only-of-type {\n",
              "        vertical-align: middle;\n",
              "    }\n",
              "\n",
              "    .dataframe tbody tr th {\n",
              "        vertical-align: top;\n",
              "    }\n",
              "\n",
              "    .dataframe thead th {\n",
              "        text-align: right;\n",
              "    }\n",
              "</style>\n",
              "<table border=\"1\" class=\"dataframe\">\n",
              "  <thead>\n",
              "    <tr style=\"text-align: right;\">\n",
              "      <th></th>\n",
              "      <th>title</th>\n",
              "      <th>year</th>\n",
              "      <th>name</th>\n",
              "      <th>type</th>\n",
              "      <th>character</th>\n",
              "      <th>n</th>\n",
              "    </tr>\n",
              "  </thead>\n",
              "  <tbody>\n",
              "    <tr>\n",
              "      <th>0</th>\n",
              "      <td>Closet Monster</td>\n",
              "      <td>2015</td>\n",
              "      <td>Buffy #1</td>\n",
              "      <td>actor</td>\n",
              "      <td>Buffy 4</td>\n",
              "      <td>31.0</td>\n",
              "    </tr>\n",
              "    <tr>\n",
              "      <th>1</th>\n",
              "      <td>Suuri illusioni</td>\n",
              "      <td>1985</td>\n",
              "      <td>Homo $</td>\n",
              "      <td>actor</td>\n",
              "      <td>Guests</td>\n",
              "      <td>22.0</td>\n",
              "    </tr>\n",
              "    <tr>\n",
              "      <th>2</th>\n",
              "      <td>Battle of the Sexes</td>\n",
              "      <td>2017</td>\n",
              "      <td>$hutter</td>\n",
              "      <td>actor</td>\n",
              "      <td>Bobby Riggs Fan</td>\n",
              "      <td>10.0</td>\n",
              "    </tr>\n",
              "    <tr>\n",
              "      <th>3</th>\n",
              "      <td>Secret in Their Eyes</td>\n",
              "      <td>2015</td>\n",
              "      <td>$hutter</td>\n",
              "      <td>actor</td>\n",
              "      <td>2002 Dodger Fan</td>\n",
              "      <td>NaN</td>\n",
              "    </tr>\n",
              "    <tr>\n",
              "      <th>4</th>\n",
              "      <td>Steve Jobs</td>\n",
              "      <td>2015</td>\n",
              "      <td>$hutter</td>\n",
              "      <td>actor</td>\n",
              "      <td>1988 Opera House Patron</td>\n",
              "      <td>NaN</td>\n",
              "    </tr>\n",
              "    <tr>\n",
              "      <th>5</th>\n",
              "      <td>Straight Outta Compton</td>\n",
              "      <td>2015</td>\n",
              "      <td>$hutter</td>\n",
              "      <td>actor</td>\n",
              "      <td>Club Patron</td>\n",
              "      <td>NaN</td>\n",
              "    </tr>\n",
              "    <tr>\n",
              "      <th>6</th>\n",
              "      <td>Straight Outta Compton</td>\n",
              "      <td>2015</td>\n",
              "      <td>$hutter</td>\n",
              "      <td>actor</td>\n",
              "      <td>Dopeman</td>\n",
              "      <td>NaN</td>\n",
              "    </tr>\n",
              "    <tr>\n",
              "      <th>7</th>\n",
              "      <td>For Thy Love 2</td>\n",
              "      <td>2009</td>\n",
              "      <td>Bee Moe $lim</td>\n",
              "      <td>actor</td>\n",
              "      <td>Thug 1</td>\n",
              "      <td>NaN</td>\n",
              "    </tr>\n",
              "    <tr>\n",
              "      <th>8</th>\n",
              "      <td>Lapis, Ballpen at Diploma, a True to Life Journey</td>\n",
              "      <td>2014</td>\n",
              "      <td>Jori ' Danilo' Jurado Jr.</td>\n",
              "      <td>actor</td>\n",
              "      <td>Jaime (young)</td>\n",
              "      <td>9.0</td>\n",
              "    </tr>\n",
              "    <tr>\n",
              "      <th>9</th>\n",
              "      <td>Desire (III)</td>\n",
              "      <td>2014</td>\n",
              "      <td>Syaiful 'Ariffin</td>\n",
              "      <td>actor</td>\n",
              "      <td>Actor Playing Eteocles from 'Antigone'</td>\n",
              "      <td>NaN</td>\n",
              "    </tr>\n",
              "  </tbody>\n",
              "</table>\n",
              "</div>"
            ],
            "text/plain": [
              "                                               title  ...     n\n",
              "0                                     Closet Monster  ...  31.0\n",
              "1                                    Suuri illusioni  ...  22.0\n",
              "2                                Battle of the Sexes  ...  10.0\n",
              "3                               Secret in Their Eyes  ...   NaN\n",
              "4                                         Steve Jobs  ...   NaN\n",
              "5                             Straight Outta Compton  ...   NaN\n",
              "6                             Straight Outta Compton  ...   NaN\n",
              "7                                     For Thy Love 2  ...   NaN\n",
              "8  Lapis, Ballpen at Diploma, a True to Life Journey  ...   9.0\n",
              "9                                       Desire (III)  ...   NaN\n",
              "\n",
              "[10 rows x 6 columns]"
            ]
          },
          "metadata": {},
          "execution_count": 7
        }
      ]
    },
    {
      "cell_type": "markdown",
      "metadata": {
        "id": "7Yu59YajLZyz"
      },
      "source": [
        "## Taking a look at the Release dataset\n",
        "\n",
        "This data shows details of when each movie was release in each country with the release date"
      ]
    },
    {
      "cell_type": "code",
      "metadata": {
        "colab": {
          "base_uri": "https://localhost:8080/"
        },
        "id": "jnuVUB6aLZy0",
        "outputId": "fe9e7e82-d255-474d-feda-c9706e90909f"
      },
      "source": [
        "release_dates = pd.read_csv('release_dates.csv', parse_dates=['date'], infer_datetime_format=True)\n",
        "release_dates.info()"
      ],
      "execution_count": 8,
      "outputs": [
        {
          "output_type": "stream",
          "name": "stdout",
          "text": [
            "<class 'pandas.core.frame.DataFrame'>\n",
            "RangeIndex: 479488 entries, 0 to 479487\n",
            "Data columns (total 4 columns):\n",
            " #   Column   Non-Null Count   Dtype         \n",
            "---  ------   --------------   -----         \n",
            " 0   title    479488 non-null  object        \n",
            " 1   year     479488 non-null  int64         \n",
            " 2   country  479488 non-null  object        \n",
            " 3   date     479488 non-null  datetime64[ns]\n",
            "dtypes: datetime64[ns](1), int64(1), object(2)\n",
            "memory usage: 14.6+ MB\n"
          ]
        }
      ]
    },
    {
      "cell_type": "code",
      "metadata": {
        "colab": {
          "base_uri": "https://localhost:8080/",
          "height": 203
        },
        "id": "3x_VAbjsLZy0",
        "outputId": "82256da9-2f32-4c63-84a0-3c056aff4fbe"
      },
      "source": [
        "release_dates.head()"
      ],
      "execution_count": 9,
      "outputs": [
        {
          "output_type": "execute_result",
          "data": {
            "text/html": [
              "<div>\n",
              "<style scoped>\n",
              "    .dataframe tbody tr th:only-of-type {\n",
              "        vertical-align: middle;\n",
              "    }\n",
              "\n",
              "    .dataframe tbody tr th {\n",
              "        vertical-align: top;\n",
              "    }\n",
              "\n",
              "    .dataframe thead th {\n",
              "        text-align: right;\n",
              "    }\n",
              "</style>\n",
              "<table border=\"1\" class=\"dataframe\">\n",
              "  <thead>\n",
              "    <tr style=\"text-align: right;\">\n",
              "      <th></th>\n",
              "      <th>title</th>\n",
              "      <th>year</th>\n",
              "      <th>country</th>\n",
              "      <th>date</th>\n",
              "    </tr>\n",
              "  </thead>\n",
              "  <tbody>\n",
              "    <tr>\n",
              "      <th>0</th>\n",
              "      <td>#73, Shaanthi Nivaasa</td>\n",
              "      <td>2007</td>\n",
              "      <td>India</td>\n",
              "      <td>2007-06-15</td>\n",
              "    </tr>\n",
              "    <tr>\n",
              "      <th>1</th>\n",
              "      <td>#BKKY</td>\n",
              "      <td>2016</td>\n",
              "      <td>Cambodia</td>\n",
              "      <td>2017-10-12</td>\n",
              "    </tr>\n",
              "    <tr>\n",
              "      <th>2</th>\n",
              "      <td>#Beings</td>\n",
              "      <td>2015</td>\n",
              "      <td>Romania</td>\n",
              "      <td>2015-01-29</td>\n",
              "    </tr>\n",
              "    <tr>\n",
              "      <th>3</th>\n",
              "      <td>#Captured</td>\n",
              "      <td>2017</td>\n",
              "      <td>USA</td>\n",
              "      <td>2017-09-05</td>\n",
              "    </tr>\n",
              "    <tr>\n",
              "      <th>4</th>\n",
              "      <td>#Ewankosau saranghaeyo</td>\n",
              "      <td>2015</td>\n",
              "      <td>Philippines</td>\n",
              "      <td>2015-01-21</td>\n",
              "    </tr>\n",
              "  </tbody>\n",
              "</table>\n",
              "</div>"
            ],
            "text/plain": [
              "                    title  year      country       date\n",
              "0   #73, Shaanthi Nivaasa  2007        India 2007-06-15\n",
              "1                   #BKKY  2016     Cambodia 2017-10-12\n",
              "2                 #Beings  2015      Romania 2015-01-29\n",
              "3               #Captured  2017          USA 2017-09-05\n",
              "4  #Ewankosau saranghaeyo  2015  Philippines 2015-01-21"
            ]
          },
          "metadata": {},
          "execution_count": 9
        }
      ]
    },
    {
      "cell_type": "markdown",
      "metadata": {
        "id": "dU6sv-zpLZy1"
      },
      "source": [
        "# Section I - Basic Querying, Filtering and Transformations"
      ]
    },
    {
      "cell_type": "markdown",
      "metadata": {
        "id": "qYuGuUS4LZy1"
      },
      "source": [
        "### What is the total number of movies?"
      ]
    },
    {
      "cell_type": "code",
      "metadata": {
        "colab": {
          "base_uri": "https://localhost:8080/"
        },
        "id": "u59MDp_zLZy1",
        "outputId": "8035786e-7676-4a09-b260-84e6da59b701"
      },
      "source": [
        "len(movies)"
      ],
      "execution_count": 10,
      "outputs": [
        {
          "output_type": "execute_result",
          "data": {
            "text/plain": [
              "209284"
            ]
          },
          "metadata": {},
          "execution_count": 10
        }
      ]
    },
    {
      "cell_type": "markdown",
      "metadata": {
        "id": "ogCQC9rbLZy2"
      },
      "source": [
        "### List all Batman movies ever made"
      ]
    },
    {
      "cell_type": "code",
      "metadata": {
        "colab": {
          "base_uri": "https://localhost:8080/",
          "height": 127
        },
        "id": "JHJzdSjZLZy2",
        "outputId": "c5501b16-411e-44c5-8b8e-378fd2e37b79"
      },
      "source": [
        "batman_df = movies[movies.title == 'Batman']\n",
        "print('Total Batman Movies:', len(batman_df))\n",
        "batman_df"
      ],
      "execution_count": 11,
      "outputs": [
        {
          "output_type": "stream",
          "name": "stdout",
          "text": [
            "Total Batman Movies: 2\n"
          ]
        },
        {
          "output_type": "execute_result",
          "data": {
            "text/html": [
              "<div>\n",
              "<style scoped>\n",
              "    .dataframe tbody tr th:only-of-type {\n",
              "        vertical-align: middle;\n",
              "    }\n",
              "\n",
              "    .dataframe tbody tr th {\n",
              "        vertical-align: top;\n",
              "    }\n",
              "\n",
              "    .dataframe thead th {\n",
              "        text-align: right;\n",
              "    }\n",
              "</style>\n",
              "<table border=\"1\" class=\"dataframe\">\n",
              "  <thead>\n",
              "    <tr style=\"text-align: right;\">\n",
              "      <th></th>\n",
              "      <th>title</th>\n",
              "      <th>year</th>\n",
              "    </tr>\n",
              "  </thead>\n",
              "  <tbody>\n",
              "    <tr>\n",
              "      <th>52734</th>\n",
              "      <td>Batman</td>\n",
              "      <td>1943.0</td>\n",
              "    </tr>\n",
              "    <tr>\n",
              "      <th>150621</th>\n",
              "      <td>Batman</td>\n",
              "      <td>1989.0</td>\n",
              "    </tr>\n",
              "  </tbody>\n",
              "</table>\n",
              "</div>"
            ],
            "text/plain": [
              "         title    year\n",
              "52734   Batman  1943.0\n",
              "150621  Batman  1989.0"
            ]
          },
          "metadata": {},
          "execution_count": 11
        }
      ]
    },
    {
      "cell_type": "markdown",
      "metadata": {
        "id": "ysjBF4c8LZy2"
      },
      "source": [
        "### List all Batman movies ever made - the right approach"
      ]
    },
    {
      "cell_type": "code",
      "metadata": {
        "colab": {
          "base_uri": "https://localhost:8080/",
          "height": 374
        },
        "id": "yRn1eY5qLZy2",
        "outputId": "b128d63f-d67c-4e6b-f3ec-860c4ee0006e"
      },
      "source": [
        "batman_df = movies[movies.title.str.contains('Batman', case=False)]\n",
        "print('Total Batman Movies:', len(batman_df))\n",
        "batman_df.head(10)"
      ],
      "execution_count": 12,
      "outputs": [
        {
          "output_type": "stream",
          "name": "stdout",
          "text": [
            "Total Batman Movies: 33\n"
          ]
        },
        {
          "output_type": "execute_result",
          "data": {
            "text/html": [
              "<div>\n",
              "<style scoped>\n",
              "    .dataframe tbody tr th:only-of-type {\n",
              "        vertical-align: middle;\n",
              "    }\n",
              "\n",
              "    .dataframe tbody tr th {\n",
              "        vertical-align: top;\n",
              "    }\n",
              "\n",
              "    .dataframe thead th {\n",
              "        text-align: right;\n",
              "    }\n",
              "</style>\n",
              "<table border=\"1\" class=\"dataframe\">\n",
              "  <thead>\n",
              "    <tr style=\"text-align: right;\">\n",
              "      <th></th>\n",
              "      <th>title</th>\n",
              "      <th>year</th>\n",
              "    </tr>\n",
              "  </thead>\n",
              "  <tbody>\n",
              "    <tr>\n",
              "      <th>16813</th>\n",
              "      <td>Batman: Anarchy</td>\n",
              "      <td>2016.0</td>\n",
              "    </tr>\n",
              "    <tr>\n",
              "      <th>30236</th>\n",
              "      <td>Batman Forever</td>\n",
              "      <td>1995.0</td>\n",
              "    </tr>\n",
              "    <tr>\n",
              "      <th>31674</th>\n",
              "      <td>Batman Untold</td>\n",
              "      <td>2010.0</td>\n",
              "    </tr>\n",
              "    <tr>\n",
              "      <th>31711</th>\n",
              "      <td>Scooby-Doo &amp; Batman: the Brave and the Bold</td>\n",
              "      <td>2018.0</td>\n",
              "    </tr>\n",
              "    <tr>\n",
              "      <th>41881</th>\n",
              "      <td>Batman the Rise of Red Hood</td>\n",
              "      <td>2018.0</td>\n",
              "    </tr>\n",
              "    <tr>\n",
              "      <th>43484</th>\n",
              "      <td>Batman: Return of the Caped Crusaders</td>\n",
              "      <td>2016.0</td>\n",
              "    </tr>\n",
              "    <tr>\n",
              "      <th>46333</th>\n",
              "      <td>Batman &amp; Robin</td>\n",
              "      <td>1997.0</td>\n",
              "    </tr>\n",
              "    <tr>\n",
              "      <th>51811</th>\n",
              "      <td>Batman Revealed</td>\n",
              "      <td>2012.0</td>\n",
              "    </tr>\n",
              "    <tr>\n",
              "      <th>52734</th>\n",
              "      <td>Batman</td>\n",
              "      <td>1943.0</td>\n",
              "    </tr>\n",
              "    <tr>\n",
              "      <th>56029</th>\n",
              "      <td>Batman Beyond: Rising Knight</td>\n",
              "      <td>2014.0</td>\n",
              "    </tr>\n",
              "  </tbody>\n",
              "</table>\n",
              "</div>"
            ],
            "text/plain": [
              "                                             title    year\n",
              "16813                              Batman: Anarchy  2016.0\n",
              "30236                               Batman Forever  1995.0\n",
              "31674                                Batman Untold  2010.0\n",
              "31711  Scooby-Doo & Batman: the Brave and the Bold  2018.0\n",
              "41881                  Batman the Rise of Red Hood  2018.0\n",
              "43484        Batman: Return of the Caped Crusaders  2016.0\n",
              "46333                               Batman & Robin  1997.0\n",
              "51811                              Batman Revealed  2012.0\n",
              "52734                                       Batman  1943.0\n",
              "56029                 Batman Beyond: Rising Knight  2014.0"
            ]
          },
          "metadata": {},
          "execution_count": 12
        }
      ]
    },
    {
      "cell_type": "markdown",
      "metadata": {
        "id": "bky-F92TLZy2"
      },
      "source": [
        "### Display the top 15 Batman movies in the order they were released"
      ]
    },
    {
      "cell_type": "code",
      "metadata": {
        "colab": {
          "base_uri": "https://localhost:8080/",
          "height": 511
        },
        "id": "Z7LUXD_4LZy2",
        "outputId": "d639da10-9f49-49d7-d17b-b88387e31d66"
      },
      "source": [
        "batman_df.sort_values(by=['year'], ascending=True).iloc[:15]"
      ],
      "execution_count": 13,
      "outputs": [
        {
          "output_type": "execute_result",
          "data": {
            "text/html": [
              "<div>\n",
              "<style scoped>\n",
              "    .dataframe tbody tr th:only-of-type {\n",
              "        vertical-align: middle;\n",
              "    }\n",
              "\n",
              "    .dataframe tbody tr th {\n",
              "        vertical-align: top;\n",
              "    }\n",
              "\n",
              "    .dataframe thead th {\n",
              "        text-align: right;\n",
              "    }\n",
              "</style>\n",
              "<table border=\"1\" class=\"dataframe\">\n",
              "  <thead>\n",
              "    <tr style=\"text-align: right;\">\n",
              "      <th></th>\n",
              "      <th>title</th>\n",
              "      <th>year</th>\n",
              "    </tr>\n",
              "  </thead>\n",
              "  <tbody>\n",
              "    <tr>\n",
              "      <th>52734</th>\n",
              "      <td>Batman</td>\n",
              "      <td>1943.0</td>\n",
              "    </tr>\n",
              "    <tr>\n",
              "      <th>100056</th>\n",
              "      <td>Batman and Robin</td>\n",
              "      <td>1949.0</td>\n",
              "    </tr>\n",
              "    <tr>\n",
              "      <th>161439</th>\n",
              "      <td>Batman Dracula</td>\n",
              "      <td>1964.0</td>\n",
              "    </tr>\n",
              "    <tr>\n",
              "      <th>84327</th>\n",
              "      <td>Alyas Batman at Robin</td>\n",
              "      <td>1965.0</td>\n",
              "    </tr>\n",
              "    <tr>\n",
              "      <th>161527</th>\n",
              "      <td>Batman: The Movie</td>\n",
              "      <td>1966.0</td>\n",
              "    </tr>\n",
              "    <tr>\n",
              "      <th>68364</th>\n",
              "      <td>James Batman</td>\n",
              "      <td>1966.0</td>\n",
              "    </tr>\n",
              "    <tr>\n",
              "      <th>56159</th>\n",
              "      <td>Batman Fights Dracula</td>\n",
              "      <td>1967.0</td>\n",
              "    </tr>\n",
              "    <tr>\n",
              "      <th>168504</th>\n",
              "      <td>Fight! Batman, Fight!</td>\n",
              "      <td>1973.0</td>\n",
              "    </tr>\n",
              "    <tr>\n",
              "      <th>150621</th>\n",
              "      <td>Batman</td>\n",
              "      <td>1989.0</td>\n",
              "    </tr>\n",
              "    <tr>\n",
              "      <th>156239</th>\n",
              "      <td>Alyas Batman en Robin</td>\n",
              "      <td>1991.0</td>\n",
              "    </tr>\n",
              "    <tr>\n",
              "      <th>156755</th>\n",
              "      <td>Batman Returns</td>\n",
              "      <td>1992.0</td>\n",
              "    </tr>\n",
              "    <tr>\n",
              "      <th>63366</th>\n",
              "      <td>Batman: Mask of the Phantasm</td>\n",
              "      <td>1993.0</td>\n",
              "    </tr>\n",
              "    <tr>\n",
              "      <th>30236</th>\n",
              "      <td>Batman Forever</td>\n",
              "      <td>1995.0</td>\n",
              "    </tr>\n",
              "    <tr>\n",
              "      <th>46333</th>\n",
              "      <td>Batman &amp; Robin</td>\n",
              "      <td>1997.0</td>\n",
              "    </tr>\n",
              "    <tr>\n",
              "      <th>208220</th>\n",
              "      <td>Batman Begins</td>\n",
              "      <td>2005.0</td>\n",
              "    </tr>\n",
              "  </tbody>\n",
              "</table>\n",
              "</div>"
            ],
            "text/plain": [
              "                               title    year\n",
              "52734                         Batman  1943.0\n",
              "100056              Batman and Robin  1949.0\n",
              "161439                Batman Dracula  1964.0\n",
              "84327          Alyas Batman at Robin  1965.0\n",
              "161527             Batman: The Movie  1966.0\n",
              "68364                   James Batman  1966.0\n",
              "56159          Batman Fights Dracula  1967.0\n",
              "168504         Fight! Batman, Fight!  1973.0\n",
              "150621                        Batman  1989.0\n",
              "156239         Alyas Batman en Robin  1991.0\n",
              "156755                Batman Returns  1992.0\n",
              "63366   Batman: Mask of the Phantasm  1993.0\n",
              "30236                 Batman Forever  1995.0\n",
              "46333                 Batman & Robin  1997.0\n",
              "208220                 Batman Begins  2005.0"
            ]
          },
          "metadata": {},
          "execution_count": 13
        }
      ]
    },
    {
      "cell_type": "markdown",
      "metadata": {
        "id": "CTLJKBkFLZy3"
      },
      "source": [
        "### Section I - Q1 : List all the 'Harry Potter' movies from the most recent to the earliest"
      ]
    },
    {
      "cell_type": "code",
      "metadata": {
        "colab": {
          "base_uri": "https://localhost:8080/",
          "height": 282
        },
        "id": "HLukZy5DLZy3",
        "outputId": "461b6c60-d567-4dbf-a9d8-e8e4eae342a5"
      },
      "source": [
        "hp_df = movies[movies.title.str.contains('Harry Potter', case=False)]\n",
        "print('List Harry Potter Movies:', len(hp_df))\n",
        "hp_df.sort_values(by=['year'], ascending=False).iloc[:15]"
      ],
      "execution_count": 14,
      "outputs": [
        {
          "output_type": "stream",
          "name": "stdout",
          "text": [
            "List Harry Potter Movies: 7\n"
          ]
        },
        {
          "output_type": "execute_result",
          "data": {
            "text/html": [
              "<div>\n",
              "<style scoped>\n",
              "    .dataframe tbody tr th:only-of-type {\n",
              "        vertical-align: middle;\n",
              "    }\n",
              "\n",
              "    .dataframe tbody tr th {\n",
              "        vertical-align: top;\n",
              "    }\n",
              "\n",
              "    .dataframe thead th {\n",
              "        text-align: right;\n",
              "    }\n",
              "</style>\n",
              "<table border=\"1\" class=\"dataframe\">\n",
              "  <thead>\n",
              "    <tr style=\"text-align: right;\">\n",
              "      <th></th>\n",
              "      <th>title</th>\n",
              "      <th>year</th>\n",
              "    </tr>\n",
              "  </thead>\n",
              "  <tbody>\n",
              "    <tr>\n",
              "      <th>143147</th>\n",
              "      <td>Harry Potter and the Deathly Hallows: Part 2</td>\n",
              "      <td>2011.0</td>\n",
              "    </tr>\n",
              "    <tr>\n",
              "      <th>152831</th>\n",
              "      <td>Harry Potter and the Deathly Hallows: Part 1</td>\n",
              "      <td>2010.0</td>\n",
              "    </tr>\n",
              "    <tr>\n",
              "      <th>109213</th>\n",
              "      <td>Harry Potter and the Half-Blood Prince</td>\n",
              "      <td>2009.0</td>\n",
              "    </tr>\n",
              "    <tr>\n",
              "      <th>50581</th>\n",
              "      <td>Harry Potter and the Order of the Phoenix</td>\n",
              "      <td>2007.0</td>\n",
              "    </tr>\n",
              "    <tr>\n",
              "      <th>187926</th>\n",
              "      <td>Harry Potter and the Goblet of Fire</td>\n",
              "      <td>2005.0</td>\n",
              "    </tr>\n",
              "    <tr>\n",
              "      <th>61957</th>\n",
              "      <td>Harry Potter and the Prisoner of Azkaban</td>\n",
              "      <td>2004.0</td>\n",
              "    </tr>\n",
              "    <tr>\n",
              "      <th>82791</th>\n",
              "      <td>Harry Potter and the Chamber of Secrets</td>\n",
              "      <td>2002.0</td>\n",
              "    </tr>\n",
              "  </tbody>\n",
              "</table>\n",
              "</div>"
            ],
            "text/plain": [
              "                                               title    year\n",
              "143147  Harry Potter and the Deathly Hallows: Part 2  2011.0\n",
              "152831  Harry Potter and the Deathly Hallows: Part 1  2010.0\n",
              "109213        Harry Potter and the Half-Blood Prince  2009.0\n",
              "50581      Harry Potter and the Order of the Phoenix  2007.0\n",
              "187926           Harry Potter and the Goblet of Fire  2005.0\n",
              "61957       Harry Potter and the Prisoner of Azkaban  2004.0\n",
              "82791        Harry Potter and the Chamber of Secrets  2002.0"
            ]
          },
          "metadata": {},
          "execution_count": 14
        }
      ]
    },
    {
      "cell_type": "markdown",
      "metadata": {
        "id": "iAGOwlhnLZy3"
      },
      "source": [
        "### How many movies were made in the year 2017?"
      ]
    },
    {
      "cell_type": "code",
      "metadata": {
        "colab": {
          "base_uri": "https://localhost:8080/"
        },
        "id": "A-Xz_bg6LZy3",
        "outputId": "1bffcd02-e8d9-40d2-df55-59b7e08af2b7"
      },
      "source": [
        "len(movies[movies.year == 2017])"
      ],
      "execution_count": 15,
      "outputs": [
        {
          "output_type": "execute_result",
          "data": {
            "text/plain": [
              "9800"
            ]
          },
          "metadata": {},
          "execution_count": 15
        }
      ]
    },
    {
      "cell_type": "markdown",
      "metadata": {
        "id": "2HMwR8WALZy3"
      },
      "source": [
        "### Section I - Q2 : How many movies were made in the year 2015?"
      ]
    },
    {
      "cell_type": "code",
      "metadata": {
        "colab": {
          "base_uri": "https://localhost:8080/"
        },
        "id": "vBifbEBXLZy3",
        "outputId": "e249a34a-a82b-438b-903b-bb22ee21d139"
      },
      "source": [
        "len(movies[movies.year == 2015])"
      ],
      "execution_count": 16,
      "outputs": [
        {
          "output_type": "execute_result",
          "data": {
            "text/plain": [
              "7482"
            ]
          },
          "metadata": {},
          "execution_count": 16
        }
      ]
    },
    {
      "cell_type": "markdown",
      "metadata": {
        "id": "cSKWTAafLZy3"
      },
      "source": [
        "### Section I - Q3 : How many movies were made from 2000 till 2018?\n",
        "- You can chain multiple conditions using OR (`|`) as well as AND (`&`) depending on the condition"
      ]
    },
    {
      "cell_type": "code",
      "metadata": {
        "colab": {
          "base_uri": "https://localhost:8080/"
        },
        "id": "mF-T0IkNLZy4",
        "outputId": "e82d3cc7-f620-4b2c-c787-b7c96335c7f5"
      },
      "source": [
        "len(movies[(movies.year == 2000) | (movies.year == 2018)])"
      ],
      "execution_count": 18,
      "outputs": [
        {
          "output_type": "execute_result",
          "data": {
            "text/plain": [
              "9256"
            ]
          },
          "metadata": {},
          "execution_count": 18
        }
      ]
    },
    {
      "cell_type": "markdown",
      "metadata": {
        "id": "w8CgxZehLZy4"
      },
      "source": [
        "### Section I - Q4: How many movies are titled \"Hamlet\"?"
      ]
    },
    {
      "cell_type": "code",
      "metadata": {
        "colab": {
          "base_uri": "https://localhost:8080/"
        },
        "id": "56D8sQXILZy4",
        "outputId": "fb7d40f0-4f7a-408e-c46d-0152fdb95391"
      },
      "source": [
        "hamlet_df = movies[movies.title == 'Hamlet']\n",
        "print('Total Hamlet Movies:', len(hamlet_df))"
      ],
      "execution_count": 19,
      "outputs": [
        {
          "output_type": "stream",
          "name": "stdout",
          "text": [
            "Total Hamlet Movies: 15\n"
          ]
        }
      ]
    },
    {
      "cell_type": "markdown",
      "metadata": {
        "id": "o4BVZIpTLZy4"
      },
      "source": [
        "### Section I - Q5: List all movies titled \"Hamlet\" \n",
        "- The movies should only have been released on or after the year 2000\n",
        "- Display the movies based on the year they were released (earliest to most recent)"
      ]
    },
    {
      "cell_type": "code",
      "metadata": {
        "colab": {
          "base_uri": "https://localhost:8080/",
          "height": 172
        },
        "id": "geMeh9GNLZy4",
        "outputId": "1c1e5447-4866-4292-857c-13d2ad07b3d2"
      },
      "source": [
        "hamlet_df = hamlet_df.sort_values(by=['year'], ascending=True)\n",
        "hamlet_df_2000 = hamlet_df[hamlet_df.year > 2000]\n",
        "hamlet_df_2000"
      ],
      "execution_count": 21,
      "outputs": [
        {
          "output_type": "execute_result",
          "data": {
            "text/html": [
              "<div>\n",
              "<style scoped>\n",
              "    .dataframe tbody tr th:only-of-type {\n",
              "        vertical-align: middle;\n",
              "    }\n",
              "\n",
              "    .dataframe tbody tr th {\n",
              "        vertical-align: top;\n",
              "    }\n",
              "\n",
              "    .dataframe thead th {\n",
              "        text-align: right;\n",
              "    }\n",
              "</style>\n",
              "<table border=\"1\" class=\"dataframe\">\n",
              "  <thead>\n",
              "    <tr style=\"text-align: right;\">\n",
              "      <th></th>\n",
              "      <th>title</th>\n",
              "      <th>year</th>\n",
              "    </tr>\n",
              "  </thead>\n",
              "  <tbody>\n",
              "    <tr>\n",
              "      <th>1931</th>\n",
              "      <td>Hamlet</td>\n",
              "      <td>2009.0</td>\n",
              "    </tr>\n",
              "    <tr>\n",
              "      <th>178290</th>\n",
              "      <td>Hamlet</td>\n",
              "      <td>2014.0</td>\n",
              "    </tr>\n",
              "    <tr>\n",
              "      <th>186137</th>\n",
              "      <td>Hamlet</td>\n",
              "      <td>2015.0</td>\n",
              "    </tr>\n",
              "    <tr>\n",
              "      <th>191940</th>\n",
              "      <td>Hamlet</td>\n",
              "      <td>2016.0</td>\n",
              "    </tr>\n",
              "  </tbody>\n",
              "</table>\n",
              "</div>"
            ],
            "text/plain": [
              "         title    year\n",
              "1931    Hamlet  2009.0\n",
              "178290  Hamlet  2014.0\n",
              "186137  Hamlet  2015.0\n",
              "191940  Hamlet  2016.0"
            ]
          },
          "metadata": {},
          "execution_count": 21
        }
      ]
    },
    {
      "cell_type": "markdown",
      "metadata": {
        "id": "7mkjQtreLZy4"
      },
      "source": [
        "### Section I - Q6: How many roles in the movie \"Inception\" are of the supporting cast (extra credits)\n",
        "- supporting cast are NOT ranked by an \"n\" value (NaN)\n",
        "- check for how to filter based on nulls"
      ]
    },
    {
      "cell_type": "code",
      "metadata": {
        "colab": {
          "base_uri": "https://localhost:8080/"
        },
        "id": "xK8zHaOoLZy4",
        "outputId": "80b4314e-3470-49a3-af2e-e9e502529837"
      },
      "source": [
        "inception_df = cast[cast.title == 'Inception']\n",
        "# inception_df\n",
        "inception_df['n'].isna().sum()"
      ],
      "execution_count": 34,
      "outputs": [
        {
          "output_type": "execute_result",
          "data": {
            "text/plain": [
              "27"
            ]
          },
          "metadata": {},
          "execution_count": 34
        }
      ]
    },
    {
      "cell_type": "markdown",
      "metadata": {
        "id": "bG1aeUyALZy4"
      },
      "source": [
        "### Section I - Q7: How many roles in the movie \"Inception\" are of the main cast\n",
        "- main cast always have an 'n' value"
      ]
    },
    {
      "cell_type": "code",
      "metadata": {
        "colab": {
          "base_uri": "https://localhost:8080/"
        },
        "id": "dWaUllznLZy5",
        "outputId": "ad4b5df5-cdc5-456e-c171-8746ac68fe8e"
      },
      "source": [
        "inception_df['n'].notnull().sum()"
      ],
      "execution_count": 35,
      "outputs": [
        {
          "output_type": "execute_result",
          "data": {
            "text/plain": [
              "51"
            ]
          },
          "metadata": {},
          "execution_count": 35
        }
      ]
    },
    {
      "cell_type": "markdown",
      "metadata": {
        "id": "vn-L_L6TLZy5"
      },
      "source": [
        "### Section I - Q8: Show the top ten cast (actors\\actresses) in the movie \"Inception\" \n",
        "- main cast always have an 'n' value\n",
        "- remember to sort!"
      ]
    },
    {
      "cell_type": "code",
      "metadata": {
        "colab": {
          "base_uri": "https://localhost:8080/",
          "height": 357
        },
        "id": "6WxHQzyFLZy5",
        "outputId": "4e9c1f9a-a2cd-411c-fd08-5c5215b41f57"
      },
      "source": [
        "inception_mc = inception_df[inception_df['n'].notnull()]\n",
        "inception_mc_top10 = inception_mc.sort_values(by=['n'], ascending=False).iloc[:10]\n",
        "inception_mc_top10"
      ],
      "execution_count": 38,
      "outputs": [
        {
          "output_type": "execute_result",
          "data": {
            "text/html": [
              "<div>\n",
              "<style scoped>\n",
              "    .dataframe tbody tr th:only-of-type {\n",
              "        vertical-align: middle;\n",
              "    }\n",
              "\n",
              "    .dataframe tbody tr th {\n",
              "        vertical-align: top;\n",
              "    }\n",
              "\n",
              "    .dataframe thead th {\n",
              "        text-align: right;\n",
              "    }\n",
              "</style>\n",
              "<table border=\"1\" class=\"dataframe\">\n",
              "  <thead>\n",
              "    <tr style=\"text-align: right;\">\n",
              "      <th></th>\n",
              "      <th>title</th>\n",
              "      <th>year</th>\n",
              "      <th>name</th>\n",
              "      <th>type</th>\n",
              "      <th>character</th>\n",
              "      <th>n</th>\n",
              "    </tr>\n",
              "  </thead>\n",
              "  <tbody>\n",
              "    <tr>\n",
              "      <th>3731263</th>\n",
              "      <td>Inception</td>\n",
              "      <td>2010</td>\n",
              "      <td>Shannon Welles</td>\n",
              "      <td>actress</td>\n",
              "      <td>Old Mal</td>\n",
              "      <td>51.0</td>\n",
              "    </tr>\n",
              "    <tr>\n",
              "      <th>833376</th>\n",
              "      <td>Inception</td>\n",
              "      <td>2010</td>\n",
              "      <td>Jack Gilroy</td>\n",
              "      <td>actor</td>\n",
              "      <td>Old Cobb</td>\n",
              "      <td>50.0</td>\n",
              "    </tr>\n",
              "    <tr>\n",
              "      <th>2250605</th>\n",
              "      <td>Inception</td>\n",
              "      <td>2010</td>\n",
              "      <td>Jason Tendell</td>\n",
              "      <td>actor</td>\n",
              "      <td>Fischer's Driver</td>\n",
              "      <td>49.0</td>\n",
              "    </tr>\n",
              "    <tr>\n",
              "      <th>3473041</th>\n",
              "      <td>Inception</td>\n",
              "      <td>2010</td>\n",
              "      <td>Lisa (II) Reynolds</td>\n",
              "      <td>actress</td>\n",
              "      <td>Private Nurse</td>\n",
              "      <td>48.0</td>\n",
              "    </tr>\n",
              "    <tr>\n",
              "      <th>1812091</th>\n",
              "      <td>Inception</td>\n",
              "      <td>2010</td>\n",
              "      <td>Andrew Pleavin</td>\n",
              "      <td>actor</td>\n",
              "      <td>Businessman</td>\n",
              "      <td>47.0</td>\n",
              "    </tr>\n",
              "    <tr>\n",
              "      <th>2049179</th>\n",
              "      <td>Inception</td>\n",
              "      <td>2010</td>\n",
              "      <td>Felix Scott</td>\n",
              "      <td>actor</td>\n",
              "      <td>Businessman</td>\n",
              "      <td>46.0</td>\n",
              "    </tr>\n",
              "    <tr>\n",
              "      <th>807795</th>\n",
              "      <td>Inception</td>\n",
              "      <td>2010</td>\n",
              "      <td>Michael Gaston</td>\n",
              "      <td>actor</td>\n",
              "      <td>Immigration Officer</td>\n",
              "      <td>45.0</td>\n",
              "    </tr>\n",
              "    <tr>\n",
              "      <th>149008</th>\n",
              "      <td>Inception</td>\n",
              "      <td>2010</td>\n",
              "      <td>Peter Basham</td>\n",
              "      <td>actor</td>\n",
              "      <td>Fischer's Jet Captain</td>\n",
              "      <td>44.0</td>\n",
              "    </tr>\n",
              "    <tr>\n",
              "      <th>3444628</th>\n",
              "      <td>Inception</td>\n",
              "      <td>2010</td>\n",
              "      <td>Nicole Pulliam</td>\n",
              "      <td>actress</td>\n",
              "      <td>Lobby Sub Con</td>\n",
              "      <td>43.0</td>\n",
              "    </tr>\n",
              "    <tr>\n",
              "      <th>3203564</th>\n",
              "      <td>Inception</td>\n",
              "      <td>2010</td>\n",
              "      <td>Alex (II) Lombard</td>\n",
              "      <td>actress</td>\n",
              "      <td>Lobby Sub Con</td>\n",
              "      <td>42.0</td>\n",
              "    </tr>\n",
              "  </tbody>\n",
              "</table>\n",
              "</div>"
            ],
            "text/plain": [
              "             title  year  ...              character     n\n",
              "3731263  Inception  2010  ...                Old Mal  51.0\n",
              "833376   Inception  2010  ...               Old Cobb  50.0\n",
              "2250605  Inception  2010  ...       Fischer's Driver  49.0\n",
              "3473041  Inception  2010  ...          Private Nurse  48.0\n",
              "1812091  Inception  2010  ...            Businessman  47.0\n",
              "2049179  Inception  2010  ...            Businessman  46.0\n",
              "807795   Inception  2010  ...    Immigration Officer  45.0\n",
              "149008   Inception  2010  ...  Fischer's Jet Captain  44.0\n",
              "3444628  Inception  2010  ...          Lobby Sub Con  43.0\n",
              "3203564  Inception  2010  ...          Lobby Sub Con  42.0\n",
              "\n",
              "[10 rows x 6 columns]"
            ]
          },
          "metadata": {},
          "execution_count": 38
        }
      ]
    },
    {
      "cell_type": "markdown",
      "metadata": {
        "id": "6QhSD2KhLZy5"
      },
      "source": [
        "### Section I - Q9:\n",
        "\n",
        "(A) List all movies where there was a character 'Albus Dumbledore' \n",
        "\n",
        "(B) Now modify the above to show only the actors who played the character 'Albus Dumbledore'\n",
        "- For Part (B) remember the same actor might play the same role in multiple movies"
      ]
    },
    {
      "cell_type": "code",
      "metadata": {
        "colab": {
          "base_uri": "https://localhost:8080/",
          "height": 295
        },
        "id": "qOzEBGmoLZy5",
        "outputId": "a313f13b-72ef-4dfa-e24d-576e2b7839cc"
      },
      "source": [
        "char_albus_dumbledore = cast[cast.character == 'Albus Dumbledore']\n",
        "char_albus_dumbledore"
      ],
      "execution_count": 39,
      "outputs": [
        {
          "output_type": "execute_result",
          "data": {
            "text/html": [
              "<div>\n",
              "<style scoped>\n",
              "    .dataframe tbody tr th:only-of-type {\n",
              "        vertical-align: middle;\n",
              "    }\n",
              "\n",
              "    .dataframe tbody tr th {\n",
              "        vertical-align: top;\n",
              "    }\n",
              "\n",
              "    .dataframe thead th {\n",
              "        text-align: right;\n",
              "    }\n",
              "</style>\n",
              "<table border=\"1\" class=\"dataframe\">\n",
              "  <thead>\n",
              "    <tr style=\"text-align: right;\">\n",
              "      <th></th>\n",
              "      <th>title</th>\n",
              "      <th>year</th>\n",
              "      <th>name</th>\n",
              "      <th>type</th>\n",
              "      <th>character</th>\n",
              "      <th>n</th>\n",
              "    </tr>\n",
              "  </thead>\n",
              "  <tbody>\n",
              "    <tr>\n",
              "      <th>704984</th>\n",
              "      <td>Epic Movie</td>\n",
              "      <td>2007</td>\n",
              "      <td>Dane Farwell</td>\n",
              "      <td>actor</td>\n",
              "      <td>Albus Dumbledore</td>\n",
              "      <td>17.0</td>\n",
              "    </tr>\n",
              "    <tr>\n",
              "      <th>792421</th>\n",
              "      <td>Harry Potter and the Goblet of Fire</td>\n",
              "      <td>2005</td>\n",
              "      <td>Michael Gambon</td>\n",
              "      <td>actor</td>\n",
              "      <td>Albus Dumbledore</td>\n",
              "      <td>37.0</td>\n",
              "    </tr>\n",
              "    <tr>\n",
              "      <th>792423</th>\n",
              "      <td>Harry Potter and the Order of the Phoenix</td>\n",
              "      <td>2007</td>\n",
              "      <td>Michael Gambon</td>\n",
              "      <td>actor</td>\n",
              "      <td>Albus Dumbledore</td>\n",
              "      <td>36.0</td>\n",
              "    </tr>\n",
              "    <tr>\n",
              "      <th>792424</th>\n",
              "      <td>Harry Potter and the Prisoner of Azkaban</td>\n",
              "      <td>2004</td>\n",
              "      <td>Michael Gambon</td>\n",
              "      <td>actor</td>\n",
              "      <td>Albus Dumbledore</td>\n",
              "      <td>27.0</td>\n",
              "    </tr>\n",
              "    <tr>\n",
              "      <th>947789</th>\n",
              "      <td>Harry Potter and the Chamber of Secrets</td>\n",
              "      <td>2002</td>\n",
              "      <td>Richard Harris</td>\n",
              "      <td>actor</td>\n",
              "      <td>Albus Dumbledore</td>\n",
              "      <td>32.0</td>\n",
              "    </tr>\n",
              "    <tr>\n",
              "      <th>947790</th>\n",
              "      <td>Harry Potter and the Sorcerer's Stone</td>\n",
              "      <td>2001</td>\n",
              "      <td>Richard Harris</td>\n",
              "      <td>actor</td>\n",
              "      <td>Albus Dumbledore</td>\n",
              "      <td>1.0</td>\n",
              "    </tr>\n",
              "    <tr>\n",
              "      <th>1685537</th>\n",
              "      <td>Ultimate Hero Project</td>\n",
              "      <td>2013</td>\n",
              "      <td>George (X) O'Connor</td>\n",
              "      <td>actor</td>\n",
              "      <td>Albus Dumbledore</td>\n",
              "      <td>NaN</td>\n",
              "    </tr>\n",
              "    <tr>\n",
              "      <th>2248085</th>\n",
              "      <td>Potter</td>\n",
              "      <td>2015</td>\n",
              "      <td>Timothy Tedmanson</td>\n",
              "      <td>actor</td>\n",
              "      <td>Albus Dumbledore</td>\n",
              "      <td>NaN</td>\n",
              "    </tr>\n",
              "  </tbody>\n",
              "</table>\n",
              "</div>"
            ],
            "text/plain": [
              "                                             title  ...     n\n",
              "704984                                  Epic Movie  ...  17.0\n",
              "792421         Harry Potter and the Goblet of Fire  ...  37.0\n",
              "792423   Harry Potter and the Order of the Phoenix  ...  36.0\n",
              "792424    Harry Potter and the Prisoner of Azkaban  ...  27.0\n",
              "947789     Harry Potter and the Chamber of Secrets  ...  32.0\n",
              "947790       Harry Potter and the Sorcerer's Stone  ...   1.0\n",
              "1685537                      Ultimate Hero Project  ...   NaN\n",
              "2248085                                     Potter  ...   NaN\n",
              "\n",
              "[8 rows x 6 columns]"
            ]
          },
          "metadata": {},
          "execution_count": 39
        }
      ]
    },
    {
      "cell_type": "code",
      "metadata": {
        "colab": {
          "base_uri": "https://localhost:8080/"
        },
        "id": "-kKOF1b1LZy5",
        "outputId": "4ef81ec9-2236-413c-8049-8cd89a7b4ad7"
      },
      "source": [
        "actors = []\n",
        "for actor in char_albus_dumbledore.name:\n",
        "    if actor not in actors:\n",
        "        actors.append(actor)\n",
        "actors"
      ],
      "execution_count": 45,
      "outputs": [
        {
          "output_type": "execute_result",
          "data": {
            "text/plain": [
              "['Dane Farwell',\n",
              " 'Michael Gambon',\n",
              " 'Richard Harris',\n",
              " \"George (X) O'Connor\",\n",
              " 'Timothy Tedmanson']"
            ]
          },
          "metadata": {},
          "execution_count": 45
        }
      ]
    },
    {
      "cell_type": "markdown",
      "metadata": {
        "id": "daEbC8R4LZy5"
      },
      "source": [
        "### Section I - Q10:\n",
        "\n",
        "(A) How many roles has 'Keanu Reeves' played throughout his career?\n",
        "\n",
        "(B) List the leading roles that 'Keanu Reeves' played on or after 1999 in order by year."
      ]
    },
    {
      "cell_type": "code",
      "metadata": {
        "colab": {
          "base_uri": "https://localhost:8080/"
        },
        "id": "z0oT8X3QLZy5",
        "outputId": "add0acb8-2aa7-40d4-a16c-948563c37485"
      },
      "source": [
        "len(cast[cast.name == 'Keanu Reeves'].index)"
      ],
      "execution_count": 50,
      "outputs": [
        {
          "output_type": "execute_result",
          "data": {
            "text/plain": [
              "62"
            ]
          },
          "metadata": {},
          "execution_count": 50
        }
      ]
    },
    {
      "cell_type": "code",
      "metadata": {
        "colab": {
          "base_uri": "https://localhost:8080/",
          "height": 480
        },
        "id": "borr_FZZLZy5",
        "outputId": "e5a61b95-93a7-4232-d660-7fcfd8f06e3f"
      },
      "source": [
        "kr = cast[(cast.name == 'Keanu Reeves') & (cast.n == 1.0) & (cast.year > 1999)]\n",
        "kr_df = kr.sort_values(by='year', ascending=False)\n",
        "kr_df"
      ],
      "execution_count": 59,
      "outputs": [
        {
          "output_type": "execute_result",
          "data": {
            "text/html": [
              "<div>\n",
              "<style scoped>\n",
              "    .dataframe tbody tr th:only-of-type {\n",
              "        vertical-align: middle;\n",
              "    }\n",
              "\n",
              "    .dataframe tbody tr th {\n",
              "        vertical-align: top;\n",
              "    }\n",
              "\n",
              "    .dataframe thead th {\n",
              "        text-align: right;\n",
              "    }\n",
              "</style>\n",
              "<table border=\"1\" class=\"dataframe\">\n",
              "  <thead>\n",
              "    <tr style=\"text-align: right;\">\n",
              "      <th></th>\n",
              "      <th>title</th>\n",
              "      <th>year</th>\n",
              "      <th>name</th>\n",
              "      <th>type</th>\n",
              "      <th>character</th>\n",
              "      <th>n</th>\n",
              "    </tr>\n",
              "  </thead>\n",
              "  <tbody>\n",
              "    <tr>\n",
              "      <th>1892378</th>\n",
              "      <td>Siberia</td>\n",
              "      <td>2018</td>\n",
              "      <td>Keanu Reeves</td>\n",
              "      <td>actor</td>\n",
              "      <td>Lucas Hill</td>\n",
              "      <td>1.0</td>\n",
              "    </tr>\n",
              "    <tr>\n",
              "      <th>1892362</th>\n",
              "      <td>John Wick: Chapter 2</td>\n",
              "      <td>2017</td>\n",
              "      <td>Keanu Reeves</td>\n",
              "      <td>actor</td>\n",
              "      <td>John Wick</td>\n",
              "      <td>1.0</td>\n",
              "    </tr>\n",
              "    <tr>\n",
              "      <th>1892399</th>\n",
              "      <td>The Whole Truth</td>\n",
              "      <td>2016</td>\n",
              "      <td>Keanu Reeves</td>\n",
              "      <td>actor</td>\n",
              "      <td>Ramsey</td>\n",
              "      <td>1.0</td>\n",
              "    </tr>\n",
              "    <tr>\n",
              "      <th>1892366</th>\n",
              "      <td>Knock Knock</td>\n",
              "      <td>2015</td>\n",
              "      <td>Keanu Reeves</td>\n",
              "      <td>actor</td>\n",
              "      <td>Evan</td>\n",
              "      <td>1.0</td>\n",
              "    </tr>\n",
              "    <tr>\n",
              "      <th>1892361</th>\n",
              "      <td>John Wick</td>\n",
              "      <td>2014</td>\n",
              "      <td>Keanu Reeves</td>\n",
              "      <td>actor</td>\n",
              "      <td>John Wick</td>\n",
              "      <td>1.0</td>\n",
              "    </tr>\n",
              "    <tr>\n",
              "      <th>1892342</th>\n",
              "      <td>47 Ronin</td>\n",
              "      <td>2013</td>\n",
              "      <td>Keanu Reeves</td>\n",
              "      <td>actor</td>\n",
              "      <td>Kai</td>\n",
              "      <td>1.0</td>\n",
              "    </tr>\n",
              "    <tr>\n",
              "      <th>1892359</th>\n",
              "      <td>Henry's Crime</td>\n",
              "      <td>2010</td>\n",
              "      <td>Keanu Reeves</td>\n",
              "      <td>actor</td>\n",
              "      <td>Henry Torne</td>\n",
              "      <td>1.0</td>\n",
              "    </tr>\n",
              "    <tr>\n",
              "      <th>1892382</th>\n",
              "      <td>Street Kings</td>\n",
              "      <td>2008</td>\n",
              "      <td>Keanu Reeves</td>\n",
              "      <td>actor</td>\n",
              "      <td>Detective Tom Ludlow</td>\n",
              "      <td>1.0</td>\n",
              "    </tr>\n",
              "    <tr>\n",
              "      <th>1892385</th>\n",
              "      <td>The Day the Earth Stood Still</td>\n",
              "      <td>2008</td>\n",
              "      <td>Keanu Reeves</td>\n",
              "      <td>actor</td>\n",
              "      <td>Klaatu</td>\n",
              "      <td>1.0</td>\n",
              "    </tr>\n",
              "    <tr>\n",
              "      <th>1892388</th>\n",
              "      <td>The Lake House</td>\n",
              "      <td>2006</td>\n",
              "      <td>Keanu Reeves</td>\n",
              "      <td>actor</td>\n",
              "      <td>Alex Wyler</td>\n",
              "      <td>1.0</td>\n",
              "    </tr>\n",
              "    <tr>\n",
              "      <th>1892348</th>\n",
              "      <td>Constantine</td>\n",
              "      <td>2005</td>\n",
              "      <td>Keanu Reeves</td>\n",
              "      <td>actor</td>\n",
              "      <td>John Constantine</td>\n",
              "      <td>1.0</td>\n",
              "    </tr>\n",
              "    <tr>\n",
              "      <th>1892358</th>\n",
              "      <td>Hard Ball</td>\n",
              "      <td>2001</td>\n",
              "      <td>Keanu Reeves</td>\n",
              "      <td>actor</td>\n",
              "      <td>Conor O'Neill</td>\n",
              "      <td>1.0</td>\n",
              "    </tr>\n",
              "    <tr>\n",
              "      <th>1892383</th>\n",
              "      <td>Sweet November</td>\n",
              "      <td>2001</td>\n",
              "      <td>Keanu Reeves</td>\n",
              "      <td>actor</td>\n",
              "      <td>Nelson Moss</td>\n",
              "      <td>1.0</td>\n",
              "    </tr>\n",
              "    <tr>\n",
              "      <th>1892397</th>\n",
              "      <td>The Replacements</td>\n",
              "      <td>2000</td>\n",
              "      <td>Keanu Reeves</td>\n",
              "      <td>actor</td>\n",
              "      <td>Shane Falco</td>\n",
              "      <td>1.0</td>\n",
              "    </tr>\n",
              "  </tbody>\n",
              "</table>\n",
              "</div>"
            ],
            "text/plain": [
              "                                 title  year  ...             character    n\n",
              "1892378                        Siberia  2018  ...            Lucas Hill  1.0\n",
              "1892362           John Wick: Chapter 2  2017  ...             John Wick  1.0\n",
              "1892399                The Whole Truth  2016  ...                Ramsey  1.0\n",
              "1892366                    Knock Knock  2015  ...                  Evan  1.0\n",
              "1892361                      John Wick  2014  ...             John Wick  1.0\n",
              "1892342                       47 Ronin  2013  ...                   Kai  1.0\n",
              "1892359                  Henry's Crime  2010  ...           Henry Torne  1.0\n",
              "1892382                   Street Kings  2008  ...  Detective Tom Ludlow  1.0\n",
              "1892385  The Day the Earth Stood Still  2008  ...                Klaatu  1.0\n",
              "1892388                 The Lake House  2006  ...            Alex Wyler  1.0\n",
              "1892348                    Constantine  2005  ...      John Constantine  1.0\n",
              "1892358                      Hard Ball  2001  ...         Conor O'Neill  1.0\n",
              "1892383                 Sweet November  2001  ...           Nelson Moss  1.0\n",
              "1892397               The Replacements  2000  ...           Shane Falco  1.0\n",
              "\n",
              "[14 rows x 6 columns]"
            ]
          },
          "metadata": {},
          "execution_count": 59
        }
      ]
    },
    {
      "cell_type": "markdown",
      "metadata": {
        "id": "AblRIeigLZy6"
      },
      "source": [
        "### Section I - Q11: \n",
        "\n",
        "(A) List the total number of actor and actress roles available from 1950 - 1960\n",
        "\n",
        "(B) List the total number of actor and actress roles available from 2007 - 2017"
      ]
    },
    {
      "cell_type": "code",
      "metadata": {
        "colab": {
          "base_uri": "https://localhost:8080/"
        },
        "id": "-fKJpu9OLZy6",
        "outputId": "2bda01db-badc-46f8-9817-bf1dc968bf90"
      },
      "source": [
        "numAct_50_to_60 = len(cast[(cast.year >= 1950) & (cast.year <= 1960)])\n",
        "numAct_50_to_60"
      ],
      "execution_count": 60,
      "outputs": [
        {
          "output_type": "execute_result",
          "data": {
            "text/plain": [
              "234635"
            ]
          },
          "metadata": {},
          "execution_count": 60
        }
      ]
    },
    {
      "cell_type": "code",
      "metadata": {
        "colab": {
          "base_uri": "https://localhost:8080/"
        },
        "id": "7sq3xKBiLZy6",
        "outputId": "2dc4b56d-dfa8-459e-8011-ea06ea652787"
      },
      "source": [
        "numAct_07_to_17 = len(cast[(cast.year >= 2007) & (cast.year <= 2017)])\n",
        "numAct_07_to_17"
      ],
      "execution_count": 61,
      "outputs": [
        {
          "output_type": "execute_result",
          "data": {
            "text/plain": [
              "1452413"
            ]
          },
          "metadata": {},
          "execution_count": 61
        }
      ]
    },
    {
      "cell_type": "markdown",
      "metadata": {
        "id": "9mRHFEskLZy6"
      },
      "source": [
        "### Section I - Q12: \n",
        "\n",
        "(A) List the total number of leading roles available from 2000 to present\n",
        "\n",
        "(B) List the total number of non-leading roles available from 2000 - present (exclude support cast)\n",
        "\n",
        "(C) List the total number of support\\extra-credit roles available from 2000 - present"
      ]
    },
    {
      "cell_type": "code",
      "metadata": {
        "colab": {
          "base_uri": "https://localhost:8080/"
        },
        "id": "nGgggWFeLZy6",
        "outputId": "e66d99b1-2584-4598-a3ec-944a7e70e9e2"
      },
      "source": [
        "num_leading = len(cast[(cast.n == 1.0) & (cast.year >= 2000)])\n",
        "num_leading"
      ],
      "execution_count": 63,
      "outputs": [
        {
          "output_type": "execute_result",
          "data": {
            "text/plain": [
              "60568"
            ]
          },
          "metadata": {},
          "execution_count": 63
        }
      ]
    },
    {
      "cell_type": "code",
      "metadata": {
        "colab": {
          "base_uri": "https://localhost:8080/"
        },
        "id": "MIvpuWcjLZy6",
        "outputId": "5addb56d-bc7a-467d-8c18-8c71a20afeef"
      },
      "source": [
        "num_non_leading = len(cast[(cast.n != 1.0) & (cast.year >= 2000) & (cast.n.notnull())])\n",
        "num_non_leading"
      ],
      "execution_count": 66,
      "outputs": [
        {
          "output_type": "execute_result",
          "data": {
            "text/plain": [
              "1001710"
            ]
          },
          "metadata": {},
          "execution_count": 66
        }
      ]
    },
    {
      "cell_type": "code",
      "metadata": {
        "colab": {
          "base_uri": "https://localhost:8080/"
        },
        "id": "gYRVL-5ZLZy6",
        "outputId": "332f4f13-d184-4374-9a83-8a0265221cd2"
      },
      "source": [
        "num_support = len(cast[(cast.n.isnull()) & (cast.year >= 2000)])\n",
        "num_support"
      ],
      "execution_count": 68,
      "outputs": [
        {
          "output_type": "execute_result",
          "data": {
            "text/plain": [
              "887484"
            ]
          },
          "metadata": {},
          "execution_count": 68
        }
      ]
    },
    {
      "cell_type": "markdown",
      "metadata": {
        "id": "s22u5mwTLZy6"
      },
      "source": [
        "# Section II - Aggregations, Transformations and Visualizations"
      ]
    },
    {
      "cell_type": "markdown",
      "metadata": {
        "id": "eiArHF6zLZy6"
      },
      "source": [
        "## What are the top ten most common movie names of all time?\n"
      ]
    },
    {
      "cell_type": "code",
      "metadata": {
        "colab": {
          "base_uri": "https://localhost:8080/"
        },
        "id": "6SHwlaqILZy6",
        "outputId": "2860ea02-57da-439b-8b67-436b2a1a00da"
      },
      "source": [
        "top_ten = movies.title.value_counts()[:10]\n",
        "top_ten"
      ],
      "execution_count": 69,
      "outputs": [
        {
          "output_type": "execute_result",
          "data": {
            "text/plain": [
              "Hamlet        15\n",
              "Carmen        13\n",
              "Macbeth       13\n",
              "Maya          11\n",
              "Honeymoon     11\n",
              "Temptation    10\n",
              "Kismet        10\n",
              "Mercy         10\n",
              "Freedom       10\n",
              "Othello       10\n",
              "Name: title, dtype: int64"
            ]
          },
          "metadata": {},
          "execution_count": 69
        }
      ]
    },
    {
      "cell_type": "markdown",
      "metadata": {
        "id": "hAxi3KRuLZy7"
      },
      "source": [
        "### Plot the top ten common movie names of all time"
      ]
    },
    {
      "cell_type": "code",
      "metadata": {
        "colab": {
          "base_uri": "https://localhost:8080/",
          "height": 282
        },
        "id": "1OEzxTCgLZy7",
        "outputId": "8e076725-0864-4b78-9cae-d966cfc23866"
      },
      "source": [
        "top_ten.plot(kind='barh')"
      ],
      "execution_count": 70,
      "outputs": [
        {
          "output_type": "execute_result",
          "data": {
            "text/plain": [
              "<matplotlib.axes._subplots.AxesSubplot at 0x7f095e4f8810>"
            ]
          },
          "metadata": {},
          "execution_count": 70
        },
        {
          "output_type": "display_data",
          "data": {
            "image/png": "[encoded data removed]",
            "text/plain": [
              "<Figure size 432x288 with 1 Axes>"
            ]
          },
          "metadata": {
            "needs_background": "light"
          }
        }
      ]
    },
    {
      "cell_type": "markdown",
      "metadata": {
        "id": "Hb_gXvGQLZy7"
      },
      "source": [
        "### Section II - Q1:  Which years in the 2000s saw the most movies released? (Show top 3)"
      ]
    },
    {
      "cell_type": "code",
      "metadata": {
        "colab": {
          "base_uri": "https://localhost:8080/"
        },
        "id": "KCNkoOsjLZy7",
        "outputId": "7982657a-0653-4878-be37-23cccbca795f"
      },
      "source": [
        "top_three_df = movies.year.value_counts().iloc[:3]\n",
        "top_three_df"
      ],
      "execution_count": 73,
      "outputs": [
        {
          "output_type": "execute_result",
          "data": {
            "text/plain": [
              "2017.0    9800\n",
              "2016.0    8024\n",
              "2015.0    7482\n",
              "Name: year, dtype: int64"
            ]
          },
          "metadata": {},
          "execution_count": 73
        }
      ]
    },
    {
      "cell_type": "markdown",
      "metadata": {
        "id": "96oU2s-WLZy7"
      },
      "source": [
        "### Section II - Q2: # Plot the total number of films released per-decade (1890, 1900, 1910,....)\n",
        "- Hint: Dividing the year and multiplying with a number might give you the decade the year falls into!\n",
        "- You might need to sort before plotting"
      ]
    },
    {
      "cell_type": "code",
      "metadata": {
        "colab": {
          "base_uri": "https://localhost:8080/",
          "height": 307
        },
        "id": "ztP8lfytLZy7",
        "outputId": "a06e045e-7fee-429d-efdb-ea5a5872e90a"
      },
      "source": [
        "# hmmm...doesn't look quite right\n",
        "decade_df = movies.groupby((movies.year//10)*10).sum()\n",
        "decade_df.plot()"
      ],
      "execution_count": 110,
      "outputs": [
        {
          "output_type": "execute_result",
          "data": {
            "text/plain": [
              "<matplotlib.axes._subplots.AxesSubplot at 0x7f095d7e3150>"
            ]
          },
          "metadata": {},
          "execution_count": 110
        },
        {
          "output_type": "display_data",
          "data": {
            "image/png": "[encoded data removed]",
            "text/plain": [
              "<Figure size 432x288 with 1 Axes>"
            ]
          },
          "metadata": {
            "needs_background": "light"
          }
        }
      ]
    },
    {
      "cell_type": "markdown",
      "metadata": {
        "id": "-8afn_HILZy7"
      },
      "source": [
        "### Section II - Q3: \n",
        "\n",
        "(A) What are the top 10 most common character names in movie history?\n",
        "\n",
        "(B) Who are the top 10 people most often credited as \"Herself\" in movie history?\n",
        "\n",
        "(C) Who are the top 10 people most often credited as \"Himself\" in movie history?"
      ]
    },
    {
      "cell_type": "code",
      "metadata": {
        "colab": {
          "base_uri": "https://localhost:8080/"
        },
        "id": "QeNNc-PQLZy7",
        "outputId": "92862631-737d-44de-a5c2-6b558fbb60e8"
      },
      "source": [
        "common_names = cast.character.value_counts().iloc[:10]\n",
        "common_names"
      ],
      "execution_count": 87,
      "outputs": [
        {
          "output_type": "execute_result",
          "data": {
            "text/plain": [
              "Himself        20746\n",
              "Dancer         12477\n",
              "Extra          11948\n",
              "Reporter        8434\n",
              "Student         7773\n",
              "Doctor          7669\n",
              "Party Guest     7245\n",
              "Policeman       7029\n",
              "Nurse           6999\n",
              "Bartender       6802\n",
              "Name: character, dtype: int64"
            ]
          },
          "metadata": {},
          "execution_count": 87
        }
      ]
    },
    {
      "cell_type": "code",
      "metadata": {
        "colab": {
          "base_uri": "https://localhost:8080/"
        },
        "id": "UWQdMRiOLZy8",
        "outputId": "b708533d-d123-4723-849f-f9a5af09ff07"
      },
      "source": [
        "herself_df = cast[cast.character == 'Herself']\n",
        "herself_10 = herself_df.name.value_counts().iloc[:10]\n",
        "herself_10"
      ],
      "execution_count": 92,
      "outputs": [
        {
          "output_type": "execute_result",
          "data": {
            "text/plain": [
              "Queen Elizabeth II           12\n",
              "Luisa Horga                   9\n",
              "Joyce Brothers                9\n",
              "Mar?a Luisa (V) Mart?n        9\n",
              "Margaret Thatcher             8\n",
              "Hillary Clinton               8\n",
              "Oprah Winfrey                 6\n",
              "Joan Rivers                   6\n",
              "Sumie Sakai                   6\n",
              "Mar?a Isabel (III) Mart?n     6\n",
              "Name: name, dtype: int64"
            ]
          },
          "metadata": {},
          "execution_count": 92
        }
      ]
    },
    {
      "cell_type": "code",
      "metadata": {
        "colab": {
          "base_uri": "https://localhost:8080/"
        },
        "id": "IIWOjlgHLZy8",
        "outputId": "a30d76bf-297d-4f08-e328-975fd3d45f6e"
      },
      "source": [
        "himself_df = cast[cast.character == 'Himself']\n",
        "himself_10 = himself_df.name.value_counts().iloc[:10]\n",
        "himself_10"
      ],
      "execution_count": 93,
      "outputs": [
        {
          "output_type": "execute_result",
          "data": {
            "text/plain": [
              "Adolf Hitler             99\n",
              "Richard Nixon            44\n",
              "Ronald Reagan            41\n",
              "John F. Kennedy          37\n",
              "George W. Bush           25\n",
              "Winston Churchill        24\n",
              "Martin Luther King       23\n",
              "Bill Clinton             22\n",
              "Ron Jeremy               22\n",
              "Franklin D. Roosevelt    21\n",
              "Name: name, dtype: int64"
            ]
          },
          "metadata": {},
          "execution_count": 93
        }
      ]
    },
    {
      "cell_type": "markdown",
      "metadata": {
        "id": "4eejG_NpLZy8"
      },
      "source": [
        "### Section II - Q4: \n",
        "\n",
        "(A) What are the top 10 most frequent roles that start with the word \"Zombie\"?\n",
        "\n",
        "(B) What are the top 10 most frequent roles that start with the word \"Police\"?\n",
        "\n",
        "- Hint: The `startswith()` function might be useful"
      ]
    },
    {
      "cell_type": "code",
      "metadata": {
        "colab": {
          "base_uri": "https://localhost:8080/"
        },
        "id": "Yi3H4YrPLZy8",
        "outputId": "483abe92-a1e2-408e-8268-bfc1eb1a3cb3"
      },
      "source": [
        "zombie_df = cast[cast.character.str.startswith('Zombie')].character.value_counts().iloc[:10]\n",
        "zombie_df"
      ],
      "execution_count": 104,
      "outputs": [
        {
          "output_type": "execute_result",
          "data": {
            "text/plain": [
              "Zombie                         6264\n",
              "Zombie Horde                    206\n",
              "Zombie - Protestor - Victim      78\n",
              "Zombie Extra                     70\n",
              "Zombie Dancer                    43\n",
              "Zombie #1                        36\n",
              "Zombie Girl                      36\n",
              "Zombie #2                        31\n",
              "Zombie Vampire                   25\n",
              "Zombie Victim                    22\n",
              "Name: character, dtype: int64"
            ]
          },
          "metadata": {},
          "execution_count": 104
        }
      ]
    },
    {
      "cell_type": "code",
      "metadata": {
        "colab": {
          "base_uri": "https://localhost:8080/"
        },
        "id": "y2RMyVZ_LZy8",
        "outputId": "6c5ee9c8-5fd7-4755-f775-3d04a95c8655"
      },
      "source": [
        "police_df = cast[cast.character.str.startswith('Police')].character.value_counts().iloc[:10]\n",
        "police_df"
      ],
      "execution_count": 105,
      "outputs": [
        {
          "output_type": "execute_result",
          "data": {
            "text/plain": [
              "Policeman              7029\n",
              "Police Officer         4808\n",
              "Police Inspector        742\n",
              "Police Sergeant         674\n",
              "Police officer          539\n",
              "Police                  456\n",
              "Policewoman             415\n",
              "Police Chief            410\n",
              "Police Captain          387\n",
              "Police Commissioner     337\n",
              "Name: character, dtype: int64"
            ]
          },
          "metadata": {},
          "execution_count": 105
        }
      ]
    },
    {
      "cell_type": "markdown",
      "metadata": {
        "id": "XeEenhYdLZy8"
      },
      "source": [
        "### Section II - Q5: Plot how many roles 'Keanu Reeves' has played in each year of his career."
      ]
    },
    {
      "cell_type": "code",
      "metadata": {
        "colab": {
          "base_uri": "https://localhost:8080/",
          "height": 312
        },
        "id": "_eOnrHLXLZy8",
        "outputId": "02765dee-ac04-4d65-9d55-6415aed44f42"
      },
      "source": [
        "kr_roles = cast[cast.name == 'Keanu Reeves'].groupby('year', sort=False).count()\n",
        "# kr_roles.plot(kind='bar')\n",
        "kr_roles.character.sort_index().plot(kind='bar')"
      ],
      "execution_count": 129,
      "outputs": [
        {
          "output_type": "execute_result",
          "data": {
            "text/plain": [
              "<matplotlib.axes._subplots.AxesSubplot at 0x7f095c67de10>"
            ]
          },
          "metadata": {},
          "execution_count": 129
        },
        {
          "output_type": "display_data",
          "data": {
            "image/png": "[encoded data removed]",
            "text/plain": [
              "<Figure size 432x288 with 1 Axes>"
            ]
          },
          "metadata": {
            "needs_background": "light"
          }
        }
      ]
    },
    {
      "cell_type": "markdown",
      "metadata": {
        "id": "vn0PFz0tLZy8"
      },
      "source": [
        "### Section II - Q6: Plot the cast positions (n-values) of Keanu Reeve's roles through his career over the years.\n"
      ]
    },
    {
      "cell_type": "code",
      "metadata": {
        "colab": {
          "base_uri": "https://localhost:8080/",
          "height": 312
        },
        "id": "Rs-GrpqYLZy8",
        "outputId": "e97b71b3-faff-4ea6-f87c-709e9c7eba27"
      },
      "source": [
        "kr_roles.n.sort_index().plot(kind='bar')"
      ],
      "execution_count": 130,
      "outputs": [
        {
          "output_type": "execute_result",
          "data": {
            "text/plain": [
              "<matplotlib.axes._subplots.AxesSubplot at 0x7f095c579750>"
            ]
          },
          "metadata": {},
          "execution_count": 130
        },
        {
          "output_type": "display_data",
          "data": {
            "image/png": "[encoded data removed]",
            "text/plain": [
              "<Figure size 432x288 with 1 Axes>"
            ]
          },
          "metadata": {
            "needs_background": "light"
          }
        }
      ]
    },
    {
      "cell_type": "markdown",
      "metadata": {
        "id": "msilvPlMLZy8"
      },
      "source": [
        "### Section II - Q7: Plot the number of \"Hamlet\" films made by each decade"
      ]
    },
    {
      "cell_type": "code",
      "metadata": {
        "colab": {
          "base_uri": "https://localhost:8080/",
          "height": 296
        },
        "id": "zNY03W4OLZy9",
        "outputId": "a1be94cc-52d1-4d4d-dad3-1dd8fb2419c4"
      },
      "source": [
        "decade_hamlet_df = movies.groupby((hamlet_df.year//10)*10).count()\n",
        "decade_hamlet_df.plot()"
      ],
      "execution_count": 141,
      "outputs": [
        {
          "output_type": "execute_result",
          "data": {
            "text/plain": [
              "<matplotlib.axes._subplots.AxesSubplot at 0x7f095c2f0dd0>"
            ]
          },
          "metadata": {},
          "execution_count": 141
        },
        {
          "output_type": "display_data",
          "data": {
            "image/png": "[encoded data removed]",
            "text/plain": [
              "<Figure size 432x288 with 1 Axes>"
            ]
          },
          "metadata": {
            "needs_background": "light"
          }
        }
      ]
    },
    {
      "cell_type": "markdown",
      "metadata": {
        "id": "9lriKlfNLZy9"
      },
      "source": [
        "### Section II - Q8: \n",
        "\n",
        "(A) How many leading roles were available to both actors and actresses, in the 1960s (1960-1969)?\n",
        "\n",
        "(B) How many leading roles were available to both actors and actresses, in the 2000s (2000-2009)?\n",
        "\n",
        "- Hint: A specific value of n might indicate a leading role"
      ]
    },
    {
      "cell_type": "code",
      "metadata": {
        "colab": {
          "base_uri": "https://localhost:8080/"
        },
        "id": "YhSd9U9tLZy-",
        "outputId": "bbf2e2cf-f5e6-4b93-c916-218d3940e8c2"
      },
      "source": [
        "leading_role_1960 = cast[(cast.year >= 1960) & (cast.year <= 1969)].n.value_counts()\n",
        "leading_role_1960.head(1)"
      ],
      "execution_count": 149,
      "outputs": [
        {
          "output_type": "execute_result",
          "data": {
            "text/plain": [
              "1.0    11823\n",
              "Name: n, dtype: int64"
            ]
          },
          "metadata": {},
          "execution_count": 149
        }
      ]
    },
    {
      "cell_type": "code",
      "metadata": {
        "colab": {
          "base_uri": "https://localhost:8080/"
        },
        "id": "ZRIeVwlaLZy_",
        "outputId": "3ffedce1-ce18-41cd-8e0a-b8868b778cf5"
      },
      "source": [
        "leading_role_2000 = cast[(cast.year >= 2000) & (cast.year <= 2009)].n.value_counts()\n",
        "leading_role_2000.head(1)"
      ],
      "execution_count": 150,
      "outputs": [
        {
          "output_type": "execute_result",
          "data": {
            "text/plain": [
              "1.0    26344\n",
              "Name: n, dtype: int64"
            ]
          },
          "metadata": {},
          "execution_count": 150
        }
      ]
    },
    {
      "cell_type": "markdown",
      "metadata": {
        "id": "QSXrzrYaLZy_"
      },
      "source": [
        "### Section II - Q9: List, in order by year, each of the films in which Frank Oz has played more than 1 role."
      ]
    },
    {
      "cell_type": "code",
      "metadata": {
        "colab": {
          "base_uri": "https://localhost:8080/",
          "height": 388
        },
        "id": "ZJ5zqwViLZy_",
        "outputId": "01749456-8fe1-45eb-e7a8-1a8b08512cfe"
      },
      "source": [
        "fo = (cast[cast.name == 'Frank Oz']\n",
        "         .groupby(['year', 'title'])\n",
        "         .count()[['name']]\n",
        "         .rename({'name': 'freq'}, axis=1)\n",
        "         .sort_values(by=['year'], ascending=True))\n",
        "fo_2 = fo[fo.freq > 1]\n",
        "fo_2"
      ],
      "execution_count": 191,
      "outputs": [
        {
          "output_type": "execute_result",
          "data": {
            "text/html": [
              "<div>\n",
              "<style scoped>\n",
              "    .dataframe tbody tr th:only-of-type {\n",
              "        vertical-align: middle;\n",
              "    }\n",
              "\n",
              "    .dataframe tbody tr th {\n",
              "        vertical-align: top;\n",
              "    }\n",
              "\n",
              "    .dataframe thead th {\n",
              "        text-align: right;\n",
              "    }\n",
              "</style>\n",
              "<table border=\"1\" class=\"dataframe\">\n",
              "  <thead>\n",
              "    <tr style=\"text-align: right;\">\n",
              "      <th></th>\n",
              "      <th></th>\n",
              "      <th>freq</th>\n",
              "    </tr>\n",
              "    <tr>\n",
              "      <th>year</th>\n",
              "      <th>title</th>\n",
              "      <th></th>\n",
              "    </tr>\n",
              "  </thead>\n",
              "  <tbody>\n",
              "    <tr>\n",
              "      <th>1979</th>\n",
              "      <th>The Muppet Movie</th>\n",
              "      <td>8</td>\n",
              "    </tr>\n",
              "    <tr>\n",
              "      <th rowspan=\"2\" valign=\"top\">1981</th>\n",
              "      <th>An American Werewolf in London</th>\n",
              "      <td>2</td>\n",
              "    </tr>\n",
              "    <tr>\n",
              "      <th>The Great Muppet Caper</th>\n",
              "      <td>6</td>\n",
              "    </tr>\n",
              "    <tr>\n",
              "      <th>1982</th>\n",
              "      <th>The Dark Crystal</th>\n",
              "      <td>2</td>\n",
              "    </tr>\n",
              "    <tr>\n",
              "      <th>1984</th>\n",
              "      <th>The Muppets Take Manhattan</th>\n",
              "      <td>7</td>\n",
              "    </tr>\n",
              "    <tr>\n",
              "      <th>1985</th>\n",
              "      <th>Follow That Bird</th>\n",
              "      <td>3</td>\n",
              "    </tr>\n",
              "    <tr>\n",
              "      <th>1992</th>\n",
              "      <th>The Muppet Christmas Carol</th>\n",
              "      <td>7</td>\n",
              "    </tr>\n",
              "    <tr>\n",
              "      <th>1996</th>\n",
              "      <th>Muppet Treasure Island</th>\n",
              "      <td>4</td>\n",
              "    </tr>\n",
              "    <tr>\n",
              "      <th rowspan=\"2\" valign=\"top\">1999</th>\n",
              "      <th>Muppets from Space</th>\n",
              "      <td>4</td>\n",
              "    </tr>\n",
              "    <tr>\n",
              "      <th>The Adventures of Elmo in Grouchland</th>\n",
              "      <td>3</td>\n",
              "    </tr>\n",
              "  </tbody>\n",
              "</table>\n",
              "</div>"
            ],
            "text/plain": [
              "                                           freq\n",
              "year title                                     \n",
              "1979 The Muppet Movie                         8\n",
              "1981 An American Werewolf in London           2\n",
              "     The Great Muppet Caper                   6\n",
              "1982 The Dark Crystal                         2\n",
              "1984 The Muppets Take Manhattan               7\n",
              "1985 Follow That Bird                         3\n",
              "1992 The Muppet Christmas Carol               7\n",
              "1996 Muppet Treasure Island                   4\n",
              "1999 Muppets from Space                       4\n",
              "     The Adventures of Elmo in Grouchland     3"
            ]
          },
          "metadata": {},
          "execution_count": 191
        }
      ]
    },
    {
      "cell_type": "markdown",
      "metadata": {
        "id": "dzJX3IgFLZy_"
      },
      "source": [
        "### Section II - Q10: List each of the characters that Frank Oz has portrayed at least twice"
      ]
    },
    {
      "cell_type": "code",
      "metadata": {
        "colab": {
          "base_uri": "https://localhost:8080/",
          "height": 326
        },
        "id": "xM1tb-FXLZy_",
        "outputId": "2b5ce1d1-cbd8-49b7-98b1-b1b89c6b2abb"
      },
      "source": [
        "fo_p = (cast[cast.name == 'Frank Oz']\n",
        "         .groupby(['character'])\n",
        "         .count()[['name']]\n",
        "         .rename({'name': 'freq'}, axis=1)\n",
        "         .sort_values(by=['freq'], ascending=False))\n",
        "fo_p_2 = fo_p[fo_p.freq > 1]\n",
        "fo_p_2"
      ],
      "execution_count": 193,
      "outputs": [
        {
          "output_type": "execute_result",
          "data": {
            "text/html": [
              "<div>\n",
              "<style scoped>\n",
              "    .dataframe tbody tr th:only-of-type {\n",
              "        vertical-align: middle;\n",
              "    }\n",
              "\n",
              "    .dataframe tbody tr th {\n",
              "        vertical-align: top;\n",
              "    }\n",
              "\n",
              "    .dataframe thead th {\n",
              "        text-align: right;\n",
              "    }\n",
              "</style>\n",
              "<table border=\"1\" class=\"dataframe\">\n",
              "  <thead>\n",
              "    <tr style=\"text-align: right;\">\n",
              "      <th></th>\n",
              "      <th>freq</th>\n",
              "    </tr>\n",
              "    <tr>\n",
              "      <th>character</th>\n",
              "      <th></th>\n",
              "    </tr>\n",
              "  </thead>\n",
              "  <tbody>\n",
              "    <tr>\n",
              "      <th>Animal</th>\n",
              "      <td>6</td>\n",
              "    </tr>\n",
              "    <tr>\n",
              "      <th>Miss Piggy</th>\n",
              "      <td>6</td>\n",
              "    </tr>\n",
              "    <tr>\n",
              "      <th>Yoda</th>\n",
              "      <td>6</td>\n",
              "    </tr>\n",
              "    <tr>\n",
              "      <th>Cookie Monster</th>\n",
              "      <td>5</td>\n",
              "    </tr>\n",
              "    <tr>\n",
              "      <th>Sam the Eagle</th>\n",
              "      <td>5</td>\n",
              "    </tr>\n",
              "    <tr>\n",
              "      <th>Fozzie Bear</th>\n",
              "      <td>4</td>\n",
              "    </tr>\n",
              "    <tr>\n",
              "      <th>Bert</th>\n",
              "      <td>3</td>\n",
              "    </tr>\n",
              "    <tr>\n",
              "      <th>Grover</th>\n",
              "      <td>2</td>\n",
              "    </tr>\n",
              "  </tbody>\n",
              "</table>\n",
              "</div>"
            ],
            "text/plain": [
              "                freq\n",
              "character           \n",
              "Animal             6\n",
              "Miss Piggy         6\n",
              "Yoda               6\n",
              "Cookie Monster     5\n",
              "Sam the Eagle      5\n",
              "Fozzie Bear        4\n",
              "Bert               3\n",
              "Grover             2"
            ]
          },
          "metadata": {},
          "execution_count": 193
        }
      ]
    },
    {
      "cell_type": "markdown",
      "metadata": {
        "id": "mhAnvd6ULZy_"
      },
      "source": [
        "# Section III - Advanced Merging, Querying and Visualizations"
      ]
    },
    {
      "cell_type": "markdown",
      "metadata": {
        "id": "n6lbXkqnLZy_"
      },
      "source": [
        "## Make a bar plot with the following conditions\n",
        "- Frequency of the number of movies with \"Christmas\" in their title \n",
        "- Movies should be such that they are released in the USA.\n",
        "- Show the frequency plot by month"
      ]
    },
    {
      "cell_type": "code",
      "metadata": {
        "colab": {
          "base_uri": "https://localhost:8080/",
          "height": 285
        },
        "id": "o85S7aVhLZy_",
        "outputId": "6705d6d8-6c59-4999-e851-029a4b24026a"
      },
      "source": [
        "christmas = release_dates[(release_dates.title.str.contains('Christmas')) & (release_dates.country == 'USA')]\n",
        "christmas.date.dt.month.value_counts().sort_index().plot(kind='bar')"
      ],
      "execution_count": 188,
      "outputs": [
        {
          "output_type": "execute_result",
          "data": {
            "text/plain": [
              "<matplotlib.axes._subplots.AxesSubplot at 0x7f095c0f3310>"
            ]
          },
          "metadata": {},
          "execution_count": 188
        },
        {
          "output_type": "display_data",
          "data": {
            "image/png": "[encoded data removed]",
            "text/plain": [
              "<Figure size 432x288 with 1 Axes>"
            ]
          },
          "metadata": {
            "needs_background": "light"
          }
        }
      ]
    },
    {
      "cell_type": "markdown",
      "metadata": {
        "id": "eMZD5C7fLZy_"
      },
      "source": [
        "### Section III - Q1: Make a bar plot with the following conditions\n",
        "- Frequency of the number of movies with \"Summer\" in their title \n",
        "- Movies should be such that they are released in the USA.\n",
        "- Show the frequency plot by month"
      ]
    },
    {
      "cell_type": "code",
      "metadata": {
        "colab": {
          "base_uri": "https://localhost:8080/",
          "height": 285
        },
        "id": "FSNUMp-YLZzA",
        "outputId": "ca25405b-0770-4662-c3ce-84934d5947b7"
      },
      "source": [
        "summer = release_dates[(release_dates.title.str.contains('Summer')) & (release_dates.country == 'USA')]\n",
        "summer.date.dt.month.value_counts().sort_index().plot(kind='bar')"
      ],
      "execution_count": 194,
      "outputs": [
        {
          "output_type": "execute_result",
          "data": {
            "text/plain": [
              "<matplotlib.axes._subplots.AxesSubplot at 0x7f095c14c410>"
            ]
          },
          "metadata": {},
          "execution_count": 194
        },
        {
          "output_type": "display_data",
          "data": {
            "image/png": "[encoded data removed]",
            "text/plain": [
              "<Figure size 432x288 with 1 Axes>"
            ]
          },
          "metadata": {
            "needs_background": "light"
          }
        }
      ]
    },
    {
      "cell_type": "markdown",
      "metadata": {
        "id": "h39dVuTYLZzA"
      },
      "source": [
        "### Section III - Q2: Make a bar plot with the following conditions\n",
        "- Frequency of the number of movies with \"Action\" in their title \n",
        "- Movies should be such that they are released in the USA.\n",
        "- Show the frequency plot by week"
      ]
    },
    {
      "cell_type": "code",
      "metadata": {
        "colab": {
          "base_uri": "https://localhost:8080/",
          "height": 279
        },
        "id": "EBZUMvH0LZzA",
        "outputId": "aca61917-5b64-4218-87d3-264a2906e4b2"
      },
      "source": [
        "action = release_dates[(release_dates.title.str.contains('Action')) & (release_dates.country == 'USA')]\n",
        "action.date.dt.dayofweek.value_counts().sort_index().plot(kind='bar')"
      ],
      "execution_count": 195,
      "outputs": [
        {
          "output_type": "execute_result",
          "data": {
            "text/plain": [
              "<matplotlib.axes._subplots.AxesSubplot at 0x7f095d7089d0>"
            ]
          },
          "metadata": {},
          "execution_count": 195
        },
        {
          "output_type": "display_data",
          "data": {
            "image/png": "[encoded data removed]",
            "text/plain": [
              "<Figure size 432x288 with 1 Axes>"
            ]
          },
          "metadata": {
            "needs_background": "light"
          }
        }
      ]
    },
    {
      "cell_type": "markdown",
      "metadata": {
        "id": "3R7n3xNeLZzA"
      },
      "source": [
        "### Section III - Q3: Show all the movies in which Keanu Reeves has played the lead role along with their   release date in the USA sorted by the date of release\n",
        "- Hint: You might need to join or merge two datasets!"
      ]
    },
    {
      "cell_type": "code",
      "metadata": {
        "colab": {
          "base_uri": "https://localhost:8080/",
          "height": 726
        },
        "id": "OX230feyLZzA",
        "outputId": "fc1c00d7-acb1-475c-d45f-615b1316cd86"
      },
      "source": [
        "usa = release_dates[release_dates.country == 'USA']\n",
        "keanuR = cast[(cast.name == 'Keanu Reeves') & (cast.n == 1)]\n",
        "(keanuR.merge(usa, how='inner', on=['title', 'year'])\n",
        "      .sort_values('date')) "
      ],
      "execution_count": 196,
      "outputs": [
        {
          "output_type": "execute_result",
          "data": {
            "text/html": [
              "<div>\n",
              "<style scoped>\n",
              "    .dataframe tbody tr th:only-of-type {\n",
              "        vertical-align: middle;\n",
              "    }\n",
              "\n",
              "    .dataframe tbody tr th {\n",
              "        vertical-align: top;\n",
              "    }\n",
              "\n",
              "    .dataframe thead th {\n",
              "        text-align: right;\n",
              "    }\n",
              "</style>\n",
              "<table border=\"1\" class=\"dataframe\">\n",
              "  <thead>\n",
              "    <tr style=\"text-align: right;\">\n",
              "      <th></th>\n",
              "      <th>title</th>\n",
              "      <th>year</th>\n",
              "      <th>name</th>\n",
              "      <th>type</th>\n",
              "      <th>character</th>\n",
              "      <th>n</th>\n",
              "      <th>country</th>\n",
              "      <th>date</th>\n",
              "    </tr>\n",
              "  </thead>\n",
              "  <tbody>\n",
              "    <tr>\n",
              "      <th>20</th>\n",
              "      <td>The Night Before</td>\n",
              "      <td>1988</td>\n",
              "      <td>Keanu Reeves</td>\n",
              "      <td>actor</td>\n",
              "      <td>Winston Connelly</td>\n",
              "      <td>1.0</td>\n",
              "      <td>USA</td>\n",
              "      <td>1988-04-15</td>\n",
              "    </tr>\n",
              "    <tr>\n",
              "      <th>3</th>\n",
              "      <td>Bill &amp; Ted's Excellent Adventure</td>\n",
              "      <td>1989</td>\n",
              "      <td>Keanu Reeves</td>\n",
              "      <td>actor</td>\n",
              "      <td>Ted</td>\n",
              "      <td>1.0</td>\n",
              "      <td>USA</td>\n",
              "      <td>1989-02-17</td>\n",
              "    </tr>\n",
              "    <tr>\n",
              "      <th>2</th>\n",
              "      <td>Bill &amp; Ted's Bogus Journey</td>\n",
              "      <td>1991</td>\n",
              "      <td>Keanu Reeves</td>\n",
              "      <td>actor</td>\n",
              "      <td>Ted</td>\n",
              "      <td>1.0</td>\n",
              "      <td>USA</td>\n",
              "      <td>1991-07-19</td>\n",
              "    </tr>\n",
              "    <tr>\n",
              "      <th>12</th>\n",
              "      <td>Little Buddha</td>\n",
              "      <td>1993</td>\n",
              "      <td>Keanu Reeves</td>\n",
              "      <td>actor</td>\n",
              "      <td>Siddhartha</td>\n",
              "      <td>1.0</td>\n",
              "      <td>USA</td>\n",
              "      <td>1994-05-25</td>\n",
              "    </tr>\n",
              "    <tr>\n",
              "      <th>13</th>\n",
              "      <td>Speed</td>\n",
              "      <td>1994</td>\n",
              "      <td>Keanu Reeves</td>\n",
              "      <td>actor</td>\n",
              "      <td>Jack Traven</td>\n",
              "      <td>1.0</td>\n",
              "      <td>USA</td>\n",
              "      <td>1994-06-10</td>\n",
              "    </tr>\n",
              "    <tr>\n",
              "      <th>10</th>\n",
              "      <td>Johnny Mnemonic</td>\n",
              "      <td>1995</td>\n",
              "      <td>Keanu Reeves</td>\n",
              "      <td>actor</td>\n",
              "      <td>Johnny Mnemonic</td>\n",
              "      <td>1.0</td>\n",
              "      <td>USA</td>\n",
              "      <td>1995-05-26</td>\n",
              "    </tr>\n",
              "    <tr>\n",
              "      <th>1</th>\n",
              "      <td>A Walk in the Clouds</td>\n",
              "      <td>1995</td>\n",
              "      <td>Keanu Reeves</td>\n",
              "      <td>actor</td>\n",
              "      <td>Paul Sutton</td>\n",
              "      <td>1.0</td>\n",
              "      <td>USA</td>\n",
              "      <td>1995-08-11</td>\n",
              "    </tr>\n",
              "    <tr>\n",
              "      <th>4</th>\n",
              "      <td>Chain Reaction</td>\n",
              "      <td>1996</td>\n",
              "      <td>Keanu Reeves</td>\n",
              "      <td>actor</td>\n",
              "      <td>Eddie Kasalivich</td>\n",
              "      <td>1.0</td>\n",
              "      <td>USA</td>\n",
              "      <td>1996-08-02</td>\n",
              "    </tr>\n",
              "    <tr>\n",
              "      <th>6</th>\n",
              "      <td>Feeling Minnesota</td>\n",
              "      <td>1996</td>\n",
              "      <td>Keanu Reeves</td>\n",
              "      <td>actor</td>\n",
              "      <td>Jjaks Clayton</td>\n",
              "      <td>1.0</td>\n",
              "      <td>USA</td>\n",
              "      <td>1996-09-13</td>\n",
              "    </tr>\n",
              "    <tr>\n",
              "      <th>17</th>\n",
              "      <td>The Devil's Advocate</td>\n",
              "      <td>1997</td>\n",
              "      <td>Keanu Reeves</td>\n",
              "      <td>actor</td>\n",
              "      <td>Kevin Lomax</td>\n",
              "      <td>1.0</td>\n",
              "      <td>USA</td>\n",
              "      <td>1997-10-17</td>\n",
              "    </tr>\n",
              "    <tr>\n",
              "      <th>19</th>\n",
              "      <td>The Matrix</td>\n",
              "      <td>1999</td>\n",
              "      <td>Keanu Reeves</td>\n",
              "      <td>actor</td>\n",
              "      <td>Neo</td>\n",
              "      <td>1.0</td>\n",
              "      <td>USA</td>\n",
              "      <td>1999-03-31</td>\n",
              "    </tr>\n",
              "    <tr>\n",
              "      <th>21</th>\n",
              "      <td>The Replacements</td>\n",
              "      <td>2000</td>\n",
              "      <td>Keanu Reeves</td>\n",
              "      <td>actor</td>\n",
              "      <td>Shane Falco</td>\n",
              "      <td>1.0</td>\n",
              "      <td>USA</td>\n",
              "      <td>2000-08-11</td>\n",
              "    </tr>\n",
              "    <tr>\n",
              "      <th>15</th>\n",
              "      <td>Sweet November</td>\n",
              "      <td>2001</td>\n",
              "      <td>Keanu Reeves</td>\n",
              "      <td>actor</td>\n",
              "      <td>Nelson Moss</td>\n",
              "      <td>1.0</td>\n",
              "      <td>USA</td>\n",
              "      <td>2001-02-16</td>\n",
              "    </tr>\n",
              "    <tr>\n",
              "      <th>7</th>\n",
              "      <td>Hard Ball</td>\n",
              "      <td>2001</td>\n",
              "      <td>Keanu Reeves</td>\n",
              "      <td>actor</td>\n",
              "      <td>Conor O'Neill</td>\n",
              "      <td>1.0</td>\n",
              "      <td>USA</td>\n",
              "      <td>2001-09-14</td>\n",
              "    </tr>\n",
              "    <tr>\n",
              "      <th>5</th>\n",
              "      <td>Constantine</td>\n",
              "      <td>2005</td>\n",
              "      <td>Keanu Reeves</td>\n",
              "      <td>actor</td>\n",
              "      <td>John Constantine</td>\n",
              "      <td>1.0</td>\n",
              "      <td>USA</td>\n",
              "      <td>2005-02-18</td>\n",
              "    </tr>\n",
              "    <tr>\n",
              "      <th>18</th>\n",
              "      <td>The Lake House</td>\n",
              "      <td>2006</td>\n",
              "      <td>Keanu Reeves</td>\n",
              "      <td>actor</td>\n",
              "      <td>Alex Wyler</td>\n",
              "      <td>1.0</td>\n",
              "      <td>USA</td>\n",
              "      <td>2006-06-16</td>\n",
              "    </tr>\n",
              "    <tr>\n",
              "      <th>14</th>\n",
              "      <td>Street Kings</td>\n",
              "      <td>2008</td>\n",
              "      <td>Keanu Reeves</td>\n",
              "      <td>actor</td>\n",
              "      <td>Detective Tom Ludlow</td>\n",
              "      <td>1.0</td>\n",
              "      <td>USA</td>\n",
              "      <td>2008-04-11</td>\n",
              "    </tr>\n",
              "    <tr>\n",
              "      <th>16</th>\n",
              "      <td>The Day the Earth Stood Still</td>\n",
              "      <td>2008</td>\n",
              "      <td>Keanu Reeves</td>\n",
              "      <td>actor</td>\n",
              "      <td>Klaatu</td>\n",
              "      <td>1.0</td>\n",
              "      <td>USA</td>\n",
              "      <td>2008-12-12</td>\n",
              "    </tr>\n",
              "    <tr>\n",
              "      <th>0</th>\n",
              "      <td>47 Ronin</td>\n",
              "      <td>2013</td>\n",
              "      <td>Keanu Reeves</td>\n",
              "      <td>actor</td>\n",
              "      <td>Kai</td>\n",
              "      <td>1.0</td>\n",
              "      <td>USA</td>\n",
              "      <td>2013-12-25</td>\n",
              "    </tr>\n",
              "    <tr>\n",
              "      <th>8</th>\n",
              "      <td>John Wick</td>\n",
              "      <td>2014</td>\n",
              "      <td>Keanu Reeves</td>\n",
              "      <td>actor</td>\n",
              "      <td>John Wick</td>\n",
              "      <td>1.0</td>\n",
              "      <td>USA</td>\n",
              "      <td>2014-10-24</td>\n",
              "    </tr>\n",
              "    <tr>\n",
              "      <th>11</th>\n",
              "      <td>Knock Knock</td>\n",
              "      <td>2015</td>\n",
              "      <td>Keanu Reeves</td>\n",
              "      <td>actor</td>\n",
              "      <td>Evan</td>\n",
              "      <td>1.0</td>\n",
              "      <td>USA</td>\n",
              "      <td>2015-10-09</td>\n",
              "    </tr>\n",
              "    <tr>\n",
              "      <th>9</th>\n",
              "      <td>John Wick: Chapter 2</td>\n",
              "      <td>2017</td>\n",
              "      <td>Keanu Reeves</td>\n",
              "      <td>actor</td>\n",
              "      <td>John Wick</td>\n",
              "      <td>1.0</td>\n",
              "      <td>USA</td>\n",
              "      <td>2017-02-10</td>\n",
              "    </tr>\n",
              "  </tbody>\n",
              "</table>\n",
              "</div>"
            ],
            "text/plain": [
              "                               title  year  ... country       date\n",
              "20                  The Night Before  1988  ...     USA 1988-04-15\n",
              "3   Bill & Ted's Excellent Adventure  1989  ...     USA 1989-02-17\n",
              "2         Bill & Ted's Bogus Journey  1991  ...     USA 1991-07-19\n",
              "12                     Little Buddha  1993  ...     USA 1994-05-25\n",
              "13                             Speed  1994  ...     USA 1994-06-10\n",
              "10                   Johnny Mnemonic  1995  ...     USA 1995-05-26\n",
              "1               A Walk in the Clouds  1995  ...     USA 1995-08-11\n",
              "4                     Chain Reaction  1996  ...     USA 1996-08-02\n",
              "6                  Feeling Minnesota  1996  ...     USA 1996-09-13\n",
              "17              The Devil's Advocate  1997  ...     USA 1997-10-17\n",
              "19                        The Matrix  1999  ...     USA 1999-03-31\n",
              "21                  The Replacements  2000  ...     USA 2000-08-11\n",
              "15                    Sweet November  2001  ...     USA 2001-02-16\n",
              "7                          Hard Ball  2001  ...     USA 2001-09-14\n",
              "5                        Constantine  2005  ...     USA 2005-02-18\n",
              "18                    The Lake House  2006  ...     USA 2006-06-16\n",
              "14                      Street Kings  2008  ...     USA 2008-04-11\n",
              "16     The Day the Earth Stood Still  2008  ...     USA 2008-12-12\n",
              "0                           47 Ronin  2013  ...     USA 2013-12-25\n",
              "8                          John Wick  2014  ...     USA 2014-10-24\n",
              "11                       Knock Knock  2015  ...     USA 2015-10-09\n",
              "9               John Wick: Chapter 2  2017  ...     USA 2017-02-10\n",
              "\n",
              "[22 rows x 8 columns]"
            ]
          },
          "metadata": {},
          "execution_count": 196
        }
      ]
    },
    {
      "cell_type": "markdown",
      "metadata": {
        "id": "rWucsQJNLZzA"
      },
      "source": [
        "### Section III - Q4: Make a bar plot showing the months in which movies with Keanu Reeves tend to be released in the USA?"
      ]
    },
    {
      "cell_type": "code",
      "metadata": {
        "colab": {
          "base_uri": "https://localhost:8080/",
          "height": 285
        },
        "id": "SRjiKwFtLZzA",
        "outputId": "e466d10a-6561-4301-f335-12357a1c90db"
      },
      "source": [
        "us = release_dates[release_dates.country == 'USA']\n",
        "keanu_r = cast[(cast.name == 'Keanu Reeves')]\n",
        "keanu_r = (keanu_r.merge(us, how='inner', on=['title', 'year'])\n",
        "              .sort_values('date'))\n",
        "keanu_r.date.dt.month.value_counts().sort_index().plot(kind='bar')"
      ],
      "execution_count": 197,
      "outputs": [
        {
          "output_type": "execute_result",
          "data": {
            "text/plain": [
              "<matplotlib.axes._subplots.AxesSubplot at 0x7f095bf4c890>"
            ]
          },
          "metadata": {},
          "execution_count": 197
        },
        {
          "output_type": "display_data",
          "data": {
            "image/png": "[encoded data removed]",
            "text/plain": [
              "<Figure size 432x288 with 1 Axes>"
            ]
          },
          "metadata": {
            "needs_background": "light"
          }
        }
      ]
    },
    {
      "cell_type": "markdown",
      "metadata": {
        "id": "hEtYOx9qLZzA"
      },
      "source": [
        "### Section III - Q5: Make a bar plot showing the years in which movies with Ian McKellen tend to be released in the USA?"
      ]
    },
    {
      "cell_type": "code",
      "metadata": {
        "colab": {
          "base_uri": "https://localhost:8080/",
          "height": 298
        },
        "id": "_zzS8x4pLZzA",
        "outputId": "a5ba346f-bed8-4ffd-beda-e3053a9146f1"
      },
      "source": [
        "american = release_dates[release_dates.country == 'USA']\n",
        "ian = cast[(cast.name == 'Ian McKellen')]\n",
        "ian = (ian.merge(american, how='inner', on=['title', 'year'])\n",
        "              .sort_values('date'))\n",
        "ian.date.dt.year.value_counts().sort_index().plot(kind='bar')"
      ],
      "execution_count": 198,
      "outputs": [
        {
          "output_type": "execute_result",
          "data": {
            "text/plain": [
              "<matplotlib.axes._subplots.AxesSubplot at 0x7f095be54b50>"
            ]
          },
          "metadata": {},
          "execution_count": 198
        },
        {
          "output_type": "display_data",
          "data": {
            "image/png": "[encoded data removed]",
            "text/plain": [
              "<Figure size 432x288 with 1 Axes>"
            ]
          },
          "metadata": {
            "needs_background": "light"
          }
        }
      ]
    },
    {
      "cell_type": "code",
      "metadata": {
        "id": "vB3sfZs37Z1V"
      },
      "source": [
        ""
      ],
      "execution_count": null,
      "outputs": []
    }
  ]
}