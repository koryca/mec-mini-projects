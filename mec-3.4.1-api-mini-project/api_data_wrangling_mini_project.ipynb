{
  "nbformat": 4,
  "nbformat_minor": 0,
  "metadata": {
    "kernelspec": {
      "display_name": "Python 3",
      "language": "python",
      "name": "python3"
    },
    "language_info": {
      "codemirror_mode": {
        "name": "ipython",
        "version": 3
      },
      "file_extension": ".py",
      "mimetype": "text/x-python",
      "name": "python",
      "nbconvert_exporter": "python",
      "pygments_lexer": "ipython3",
      "version": "3.6.4"
    },
    "colab": {
      "name": "api_data_wrangling_mini_project.ipynb",
      "provenance": [],
      "collapsed_sections": []
    }
  },
  "cells": [
    {
      "cell_type": "markdown",
      "metadata": {
        "id": "3eq5ht6cGakd"
      },
      "source": [
        "This exercise will require you to pull some data from the Qunadl API. Qaundl is currently the most widely used aggregator of financial market data."
      ]
    },
    {
      "cell_type": "markdown",
      "metadata": {
        "id": "uHvASqNqGakg"
      },
      "source": [
        "As a first step, you will need to register a free account on the http://www.quandl.com website."
      ]
    },
    {
      "cell_type": "markdown",
      "metadata": {
        "id": "2jBL-49QGakh"
      },
      "source": [
        "After you register, you will be provided with a unique API key, that you should store:"
      ]
    },
    {
      "cell_type": "code",
      "metadata": {
        "collapsed": true,
        "id": "P_mRMQ9kGakh"
      },
      "source": [
        "# Store the API key as a string - according to PEP8, constants are always named in all upper case\n",
        "API_KEY = 'kYtaVibfgpWvvnBJz8cQ'"
      ],
      "execution_count": null,
      "outputs": []
    },
    {
      "cell_type": "markdown",
      "metadata": {
        "id": "4Luxc-EBGakj"
      },
      "source": [
        "Qaundl has a large number of data sources, but, unfortunately, most of them require a Premium subscription. Still, there are also a good number of free datasets."
      ]
    },
    {
      "cell_type": "markdown",
      "metadata": {
        "id": "6dxBLay0Gakk"
      },
      "source": [
        "For this mini project, we will focus on equities data from the Frankfurt Stock Exhange (FSE), which is available for free. We'll try and analyze the stock prices of a company called Carl Zeiss Meditec, which manufactures tools for eye examinations, as well as medical lasers for laser eye surgery: https://www.zeiss.com/meditec/int/home.html. The company is listed under the stock ticker AFX_X."
      ]
    },
    {
      "cell_type": "markdown",
      "metadata": {
        "id": "hfVO07YiGakl"
      },
      "source": [
        "You can find the detailed Quandl API instructions here: https://docs.quandl.com/docs/time-series"
      ]
    },
    {
      "cell_type": "markdown",
      "metadata": {
        "id": "MSEE3bkaGakm"
      },
      "source": [
        "While there is a dedicated Python package for connecting to the Quandl API, we would prefer that you use the *requests* package, which can be easily downloaded using *pip* or *conda*. You can find the documentation for the package here: http://docs.python-requests.org/en/master/ "
      ]
    },
    {
      "cell_type": "markdown",
      "metadata": {
        "id": "MLWnVjU3Gako"
      },
      "source": [
        "Finally, apart from the *requests* package, you are encouraged to not use any third party Python packages, such as *pandas*, and instead focus on what's available in the Python Standard Library (the *collections* module might come in handy: https://pymotw.com/3/collections/).\n",
        "Also, since you won't have access to DataFrames, you are encouraged to us Python's native data structures - preferably dictionaries, though some questions can also be answered using lists.\n",
        "You can read more on these data structures here: https://docs.python.org/3/tutorial/datastructures.html"
      ]
    },
    {
      "cell_type": "markdown",
      "metadata": {
        "id": "f2Opcym_Gakp"
      },
      "source": [
        "Keep in mind that the JSON responses you will be getting from the API map almost one-to-one to Python's dictionaries. Unfortunately, they can be very nested, so make sure you read up on indexing dictionaries in the documentation provided above."
      ]
    },
    {
      "cell_type": "code",
      "metadata": {
        "collapsed": true,
        "colab": {
          "base_uri": "https://localhost:8080/"
        },
        "id": "XyfFI1MRGakq",
        "outputId": "7d94b579-5aa6-45f4-c5df-dc41903ca259"
      },
      "source": [
        "# First, import the relevant modules\n",
        "!pip install quandl\n",
        "import quandl"
      ],
      "execution_count": 3,
      "outputs": [
        {
          "output_type": "stream",
          "name": "stdout",
          "text": [
            "Collecting quandl\n",
            "  Downloading Quandl-3.6.1-py2.py3-none-any.whl (26 kB)\n",
            "Requirement already satisfied: more-itertools in /usr/local/lib/python3.7/dist-packages (from quandl) (8.8.0)\n",
            "Requirement already satisfied: python-dateutil in /usr/local/lib/python3.7/dist-packages (from quandl) (2.8.2)\n",
            "Requirement already satisfied: numpy>=1.8 in /usr/local/lib/python3.7/dist-packages (from quandl) (1.19.5)\n",
            "Requirement already satisfied: pandas>=0.14 in /usr/local/lib/python3.7/dist-packages (from quandl) (1.1.5)\n",
            "Collecting inflection>=0.3.1\n",
            "  Downloading inflection-0.5.1-py2.py3-none-any.whl (9.5 kB)\n",
            "Requirement already satisfied: six in /usr/local/lib/python3.7/dist-packages (from quandl) (1.15.0)\n",
            "Requirement already satisfied: requests>=2.7.0 in /usr/local/lib/python3.7/dist-packages (from quandl) (2.23.0)\n",
            "Requirement already satisfied: pytz>=2017.2 in /usr/local/lib/python3.7/dist-packages (from pandas>=0.14->quandl) (2018.9)\n",
            "Requirement already satisfied: certifi>=2017.4.17 in /usr/local/lib/python3.7/dist-packages (from requests>=2.7.0->quandl) (2021.5.30)\n",
            "Requirement already satisfied: chardet<4,>=3.0.2 in /usr/local/lib/python3.7/dist-packages (from requests>=2.7.0->quandl) (3.0.4)\n",
            "Requirement already satisfied: idna<3,>=2.5 in /usr/local/lib/python3.7/dist-packages (from requests>=2.7.0->quandl) (2.10)\n",
            "Requirement already satisfied: urllib3!=1.25.0,!=1.25.1,<1.26,>=1.21.1 in /usr/local/lib/python3.7/dist-packages (from requests>=2.7.0->quandl) (1.24.3)\n",
            "Installing collected packages: inflection, quandl\n",
            "Successfully installed inflection-0.5.1 quandl-3.6.1\n"
          ]
        }
      ]
    },
    {
      "cell_type": "code",
      "metadata": {
        "collapsed": true,
        "colab": {
          "base_uri": "https://localhost:8080/"
        },
        "id": "PCaZRovwGakr",
        "outputId": "e344cfa1-bccb-4340-de81-1c60591f1703"
      },
      "source": [
        "# Now, call the Quandl API and pull out a small sample of the data (only one day) to get a glimpse\n",
        "# into the JSON structure that will be returned\n",
        "!curl \"https://data.nasdaq.com/api/v3/datasets/WIKI/FB.json?column_index=4&start_date=2014-01-01&end_date=2014-01-02&collapse=monthly&transform=rdiff&api_key=kYtaVibfgpWvvnBJz8cQ\""
      ],
      "execution_count": 4,
      "outputs": [
        {
          "output_type": "stream",
          "name": "stdout",
          "text": [
            "{\"dataset\":{\"id\":9775687,\"dataset_code\":\"FB\",\"database_code\":\"WIKI\",\"name\":\"Facebook Inc. (FB) Prices, Dividends, Splits and Trading Volume\",\"description\":\"End of day open, high, low, close and volume, dividends and splits, and split/dividend adjusted open, high, low close and volume for Facebook, Inc. (FB). Ex-Dividend is non-zero on ex-dividend dates. Split Ratio is 1 on non-split dates. Adjusted prices are calculated per CRSP (www.crsp.com/products/documentation/crsp-calculations)\\n\\nThis data is in the public domain. You may copy, distribute, disseminate or include the data in other products for commercial and/or noncommercial purposes.\\n\\nThis data is part of Quandl's Wiki initiative to get financial data permanently into the public domain. Quandl relies on users like you to flag errors and provide data where data is wrong or missing. Get involved: connect@quandl.com\\n\",\"refreshed_at\":\"2018-03-27T21:46:11.036Z\",\"newest_available_date\":\"2018-03-27\",\"oldest_available_date\":\"2012-05-18\",\"column_names\":[\"Date\",\"Close\"],\"frequency\":\"daily\",\"type\":\"Time Series\",\"premium\":false,\"limit\":null,\"transform\":\"rdiff\",\"column_index\":4,\"start_date\":\"2014-01-01\",\"end_date\":\"2014-01-02\",\"data\":[],\"collapse\":\"monthly\",\"order\":null,\"database_id\":4922}}"
          ]
        }
      ]
    },
    {
      "cell_type": "code",
      "metadata": {
        "collapsed": true,
        "colab": {
          "base_uri": "https://localhost:8080/",
          "height": 130
        },
        "id": "yDuTvZEpGakr",
        "outputId": "4005c821-2a63-4e81-9929-984a66561003"
      },
      "source": [
        "# Inspect the JSON structure of the object you created, and take note of how nested it is,\n",
        "# as well as the overall structure\n"
      ],
      "execution_count": null,
      "outputs": [
        {
          "output_type": "error",
          "ename": "SyntaxError",
          "evalue": "ignored",
          "traceback": [
            "\u001b[0;36m  File \u001b[0;32m\"<ipython-input-3-4abf4da907aa>\"\u001b[0;36m, line \u001b[0;32m3\u001b[0m\n\u001b[0;31m    https://www.quandl.com/api/v3/datasets/FRED/NROUST?start_date=2031-10-01&end_date=2031-10-01&api_key=kYtaVibfgpWvvnBJz8cQ\u001b[0m\n\u001b[0m           ^\u001b[0m\n\u001b[0;31mSyntaxError\u001b[0m\u001b[0;31m:\u001b[0m invalid syntax\n"
          ]
        }
      ]
    },
    {
      "cell_type": "markdown",
      "metadata": {
        "id": "zJG-U02bGaks"
      },
      "source": [
        "These are your tasks for this mini project:\n",
        "\n",
        "1. Collect data from the Franfurt Stock Exchange, for the ticker AFX_X, for the whole year 2017 (keep in mind that the date format is YYYY-MM-DD).\n",
        "2. Convert the returned JSON object into a Python dictionary.\n",
        "3. Calculate what the highest and lowest opening prices were for the stock in this period.\n",
        "4. What was the largest change in any one day (based on High and Low price)?\n",
        "5. What was the largest change between any two days (based on Closing Price)?\n",
        "6. What was the average daily trading volume during this year?\n",
        "7. (Optional) What was the median trading volume during this year. (Note: you may need to implement your own function for calculating the median.)"
      ]
    },
    {
      "cell_type": "code",
      "metadata": {
        "collapsed": true,
        "id": "sG_wB6dMGakt",
        "colab": {
          "base_uri": "https://localhost:8080/"
        },
        "outputId": "660e62c5-f533-4e41-a6cf-df638651183e"
      },
      "source": [
        "!curl \"https://www.quandl.com/api/v3/datasets/XFRA/ADS?start_date=2017-01-01&end_date=2017-12-31&api_key=kYtaVibfgpWvvnBJz8cQ\""
      ],
      "execution_count": 5,
      "outputs": [
        {
          "output_type": "stream",
          "name": "stdout",
          "text": [
            "{\"dataset\":{\"id\":46112467,\"dataset_code\":\"ADS\",\"database_code\":\"XFRA\",\"name\":\"Adidas AG (ADS) Adjusted Stock Prices\",\"description\":\" \\u003cb\\u003eTicker\\u003c/b\\u003e: ADS \\u003cbr\\u003e \\u003cbr\\u003e \\u003cb\\u003eExchange\\u003c/b\\u003e: XFRA \\u003cbr\\u003e \\u003cbr\\u003e Columns: \\u003cbr\\u003e \\u003cbr\\u003e Open,High,Low,Close,Volume are adjusted and shown in EUR currency. \\u003cbr\\u003e \\u003cbr\\u003e Adjustment Factor shows the factor by which prices are adjusted on days which adjustments take place \\u003cbr\\u003e \\u003cbr\\u003e Adjustment Type is a number representing the type of adjustment. Refer to documentation for more information on these codes.\",\"refreshed_at\":\"2021-09-08T03:08:54.776Z\",\"newest_available_date\":\"2018-11-30\",\"oldest_available_date\":\"2007-01-02\",\"column_names\":[\"Date\",\"Open\",\"High\",\"Low\",\"Close\",\"Volume\",\"Adjustment Factor\",\"Adjustment Type\"],\"frequency\":\"daily\",\"type\":\"Time Series\",\"premium\":true,\"limit\":null,\"transform\":null,\"column_index\":null,\"start_date\":\"2017-01-01\",\"end_date\":\"2017-12-31\",\"data\":[[\"2017-12-29\",162.513872,162.513872,161.125301,161.149375,1060.0,null,null],[\"2017-12-28\",163.601041,163.601041,161.951511,162.221136,1019.0,null,null],[\"2017-12-27\",164.250068,164.250068,163.0849,163.599115,1121.0,null,null],[\"2017-12-26\",163.219713,163.219713,163.219713,163.219713,0.0,null,null],[\"2017-12-25\",163.219713,163.219713,163.219713,163.219713,0.0,null,null],[\"2017-12-22\",163.46045,163.917851,162.738239,163.219713,2067.0,null,null],[\"2017-12-21\",164.088292,164.836503,162.738239,163.552893,2173.0,null,null],[\"2017-12-20\",166.516848,166.516848,163.701187,164.0777,1489.0,null,null],[\"2017-12-19\",167.143727,167.55298,166.507218,166.556329,752.0,null,null],[\"2017-12-18\",167.601127,167.819717,166.421516,167.143727,1661.0,null,null],[\"2017-12-15\",161.910104,165.984337,161.872549,165.984337,1826.0,null,null],[\"2017-12-14\",162.321283,164.519693,159.656805,161.967881,3261.0,null,null],[\"2017-12-13\",168.004603,168.004603,161.055006,162.073805,5067.0,null,null],[\"2017-12-12\",169.62717,169.780279,166.590032,167.55298,2348.0,null,null],[\"2017-12-11\",174.783758,174.783758,167.793717,169.229473,2903.0,null,null],[\"2017-12-08\",174.704796,175.012939,173.884364,174.4188,2083.0,null,null],[\"2017-12-07\",173.430816,174.00377,172.608458,174.00377,1281.0,null,null],[\"2017-12-06\",169.903536,173.089932,169.477913,172.652753,1351.0,null,null],[\"2017-12-05\",170.488046,171.246849,169.238139,170.818337,1917.0,null,null],[\"2017-12-04\",170.489972,170.829893,170.001757,170.627673,1975.0,null,null],[\"2017-12-01\",169.557838,170.095163,168.515928,169.266065,3104.0,null,null],[\"2017-11-30\",170.718191,171.225664,168.654593,169.076364,1521.0,null,null],[\"2017-11-29\",172.625791,174.725981,170.550638,171.023445,1363.0,null,null],[\"2017-11-28\",172.443794,173.330669,172.319573,172.515052,880.0,null,null],[\"2017-11-27\",173.363409,173.980659,172.230982,172.41972,2280.0,null,null],[\"2017-11-24\",174.82035,175.586856,173.330669,174.209841,2592.0,null,null],[\"2017-11-23\",175.942184,175.942184,174.933015,174.950348,814.0,null,null],[\"2017-11-22\",180.108861,180.806035,175.930629,176.700987,2712.0,null,null],[\"2017-11-21\",178.14541,180.600928,177.781415,180.599965,2106.0,null,null],[\"2017-11-20\",176.886836,179.541685,176.886836,178.355332,2654.0,null,null],[\"2017-11-17\",178.00193,179.397242,178.000968,178.748215,779.0,null,null],[\"2017-11-16\",179.328873,180.372709,177.483864,178.00193,636.0,null,null],[\"2017-11-15\",180.445893,180.445893,176.564249,179.273985,2694.0,null,null],[\"2017-11-14\",177.536826,181.281732,176.419807,180.478633,2052.0,null,null],[\"2017-11-13\",175.946036,177.581122,174.139545,177.182462,1926.0,null,null],[\"2017-11-10\",170.15294,175.118864,169.478876,174.482355,6443.0,null,null],[\"2017-11-09\",179.421316,179.431908,168.467781,169.477913,13020.0,null,null],[\"2017-11-08\",177.034168,178.421776,177.034168,177.863266,503.0,null,null],[\"2017-11-07\",176.956169,177.519493,176.363956,176.622026,1410.0,null,null],[\"2017-11-06\",180.359228,180.359228,175.954703,175.984554,4602.0,null,null],[\"2017-11-03\",180.593224,181.316398,179.774718,180.434338,849.0,null,null],[\"2017-11-02\",180.873442,182.706895,179.87005,180.246563,737.0,null,null],[\"2017-11-01\",185.192264,185.192264,180.289895,180.740555,2762.0,null,null],[\"2017-10-31\",184.056948,184.056948,184.056948,184.056948,0.0,null,null],[\"2017-10-30\",183.874951,184.734864,183.534068,184.056948,1656.0,null,null],[\"2017-10-27\",183.369404,185.347299,183.369404,183.923099,781.0,null,null],[\"2017-10-26\",179.885457,183.509031,179.885457,183.441625,663.0,null,null],[\"2017-10-25\",180.741518,181.465655,179.100654,180.023159,1593.0,null,null],[\"2017-10-24\",180.130046,181.239362,179.537833,180.456485,1011.0,null,null],[\"2017-10-23\",181.034254,182.106016,179.727534,180.605742,835.0,null,null],[\"2017-10-20\",180.671223,181.069883,180.054936,180.22923,539.0,null,null],[\"2017-10-19\",184.113762,184.113762,179.808421,179.835384,1841.0,null,null],[\"2017-10-18\",184.706938,184.787826,182.154163,182.154163,820.0,null,null],[\"2017-10-17\",184.884121,186.077214,183.874951,183.874951,211.0,null,null],[\"2017-10-16\",186.493207,186.493207,184.536497,185.073822,1411.0,null,null],[\"2017-10-13\",186.652094,187.301121,186.032918,186.032918,970.0,null,null],[\"2017-10-12\",186.811943,187.286677,186.33721,186.922682,165.0,null,null],[\"2017-10-11\",187.726744,188.197626,186.414246,186.673279,239.0,null,null],[\"2017-10-10\",188.00311,188.917911,187.257788,187.720966,492.0,null,null],[\"2017-10-09\",186.021363,187.915482,185.848995,187.638153,696.0,null,null],[\"2017-10-06\",187.532228,187.532228,185.229819,185.229819,1423.0,null,null],[\"2017-10-05\",188.095553,189.291535,186.728167,186.728167,1123.0,null,null],[\"2017-10-04\",189.698862,189.698862,187.107568,187.521636,1493.0,null,null],[\"2017-10-03\",188.690655,188.690655,188.690655,188.690655,0.0,null,null],[\"2017-10-02\",185.329003,189.549605,185.329003,188.690655,5681.0,null,null],[\"2017-09-29\",181.899945,184.63568,181.899945,184.338129,595.0,null,null],[\"2017-09-28\",181.789206,181.789206,180.729963,181.592764,1046.0,null,null],[\"2017-09-27\",179.882568,183.092074,179.330799,181.25188,4222.0,null,null],[\"2017-09-26\",184.815752,184.815752,180.55278,180.727074,1402.0,null,null],[\"2017-09-25\",184.415165,186.89572,184.415165,185.387743,945.0,null,null],[\"2017-09-22\",185.646776,186.131139,184.88701,184.88701,1605.0,null,null],[\"2017-09-21\",187.729633,187.729633,185.017971,186.49417,585.0,null,null],[\"2017-09-20\",188.037776,188.037776,185.848995,186.12825,1959.0,null,null],[\"2017-09-19\",190.078263,190.078263,187.557265,187.557265,274.0,null,null],[\"2017-09-18\",190.830326,191.626684,189.424422,189.586197,255.0,null,null],[\"2017-09-15\",190.654106,191.180839,190.654106,190.67818,200.0,null,null],[\"2017-09-14\",191.625721,191.625721,189.700788,190.458628,921.0,null,null],[\"2017-09-13\",190.089819,191.697942,190.089819,191.697942,460.0,null,null],[\"2017-09-12\",189.987746,190.747512,189.987746,190.670476,156.0,null,null],[\"2017-09-11\",189.19524,190.783141,189.19524,190.783141,1769.0,null,null],[\"2017-09-08\",187.584228,188.063776,186.591428,187.662226,532.0,null,null],[\"2017-09-07\",184.396869,188.737839,184.396869,188.020443,797.0,null,null],[\"2017-09-06\",181.440618,184.97849,180.588409,184.97849,861.0,null,null],[\"2017-09-05\",182.582675,182.582675,182.582675,182.582675,0.0,null,null],[\"2017-09-04\",181.871056,183.188369,181.743947,182.582675,528.0,null,null],[\"2017-09-01\",182.038609,184.825381,182.038609,183.329923,669.0,null,null],[\"2017-08-31\",180.041455,182.086757,179.646646,181.763206,946.0,null,null],[\"2017-08-30\",176.506472,180.249451,176.506472,179.206579,564.0,null,null],[\"2017-08-29\",177.089056,177.089056,175.028347,176.031739,1422.0,null,null],[\"2017-08-28\",180.159897,180.159897,178.441035,178.650958,1660.0,null,null],[\"2017-08-25\",179.098728,181.84602,178.398665,180.937959,2191.0,null,null],[\"2017-08-24\",181.316398,183.197999,180.687593,180.687593,6148.0,null,null],[\"2017-08-23\",182.406455,182.406455,182.406455,182.406455,0.0,null,null],[\"2017-08-22\",181.756465,182.710747,181.756465,182.406455,333.0,null,null],[\"2017-08-21\",182.48638,182.955336,179.939382,180.554706,562.0,null,null],[\"2017-08-18\",184.45272,184.45272,176.812689,182.180163,3420.0,null,null],[\"2017-08-17\",186.472022,186.472022,184.091615,184.367981,316.0,null,null],[\"2017-08-16\",187.21253,188.262143,186.246693,186.285211,2014.0,null,null],[\"2017-08-15\",186.890905,188.243847,186.890905,187.263566,470.0,null,null],[\"2017-08-14\",185.888476,187.004533,184.754123,185.788329,1556.0,null,null],[\"2017-08-11\",182.442084,184.921676,182.442084,184.8119,1745.0,null,null],[\"2017-08-10\",186.234174,186.234174,183.031409,183.031409,1675.0,null,null],[\"2017-08-09\",191.173135,191.173135,186.272692,186.282322,1425.0,null,null],[\"2017-08-08\",191.915568,192.384524,190.615588,191.631499,1210.0,null,null],[\"2017-08-07\",191.077804,192.108158,190.566478,191.877051,1360.0,null,null],[\"2017-08-04\",185.54374,193.565099,185.54374,192.024382,2618.0,null,null],[\"2017-08-03\",185.46189,186.040622,181.990462,186.039659,2454.0,null,null],[\"2017-08-02\",184.530719,186.523059,184.530719,184.761827,706.0,null,null],[\"2017-08-01\",185.718034,186.295803,184.260131,184.789752,1238.0,null,null],[\"2017-07-31\",185.787366,186.378617,184.886047,185.581295,1751.0,null,null],[\"2017-07-28\",178.601847,186.330469,178.024078,185.729589,10388.0,null,null],[\"2017-07-27\",170.151014,178.049115,170.151014,176.710617,4820.0,null,null],[\"2017-07-26\",169.77065,170.91078,169.77065,170.471676,124.0,null,null],[\"2017-07-25\",170.133681,170.814485,169.382581,170.191458,885.0,null,null],[\"2017-07-24\",170.338789,171.405736,170.092274,170.442787,667.0,null,null],[\"2017-07-21\",173.27867,173.607035,170.483231,170.483231,179.0,null,null],[\"2017-07-20\",172.7269,174.377394,171.905506,172.926231,284.0,null,null],[\"2017-07-19\",173.464519,173.609924,172.386017,172.60268,524.0,null,null],[\"2017-07-18\",175.350934,175.350934,172.740382,173.384594,878.0,null,null],[\"2017-07-17\",174.775091,176.219513,173.414445,175.50308,1612.0,null,null],[\"2017-07-14\",173.620516,174.142434,173.343187,173.808291,1670.0,null,null],[\"2017-07-13\",172.157798,173.882438,171.701361,173.815032,503.0,null,null],[\"2017-07-12\",168.288672,172.367721,168.288672,171.784174,3761.0,null,null],[\"2017-07-11\",168.747999,169.418211,168.034454,168.564076,893.0,null,null],[\"2017-07-10\",170.530416,170.530416,168.441781,168.812516,472.0,null,null],[\"2017-07-07\",169.27762,169.899685,168.647852,169.635837,659.0,null,null],[\"2017-07-06\",170.780782,171.792841,168.458151,169.970943,3333.0,null,null],[\"2017-07-05\",164.428213,170.916558,164.428213,170.308938,2892.0,null,null],[\"2017-07-04\",162.256765,162.58513,161.955362,162.298172,655.0,null,null],[\"2017-07-03\",162.814312,163.370896,162.016028,162.622685,682.0,null,null],[\"2017-06-30\",158.45312,163.294823,158.45312,162.478243,2058.0,null,null],[\"2017-06-29\",162.638093,162.638093,157.586466,158.470453,2741.0,null,null],[\"2017-06-28\",162.311653,162.311653,162.311653,162.311653,0.0,null,null],[\"2017-06-27\",162.354023,162.663129,161.377593,162.311653,617.0,null,null],[\"2017-06-26\",162.77772,163.482598,162.256765,162.724758,1105.0,null,null],[\"2017-06-23\",163.42771,163.42771,161.926474,162.629426,434.0,null,null],[\"2017-06-22\",164.690135,164.690135,163.342008,163.342008,517.0,null,null],[\"2017-06-21\",165.649231,165.649231,163.46045,164.5871,368.0,null,null],[\"2017-06-20\",168.624741,168.624741,165.651157,165.651157,270.0,null,null],[\"2017-06-19\",168.116305,168.744147,167.709941,168.4283,342.0,null,null],[\"2017-06-16\",167.330539,168.214525,166.91936,167.606905,448.0,null,null],[\"2017-06-15\",170.903077,170.903077,167.041654,167.041654,100.0,null,null],[\"2017-06-14\",169.04555,171.934394,168.227044,171.097592,2326.0,null,null],[\"2017-06-13\",165.862043,169.514505,165.627084,169.238139,1257.0,null,null],[\"2017-06-12\",163.219713,166.281888,162.838386,166.108558,564.0,null,null],[\"2017-06-09\",162.479206,163.776297,162.129656,163.776297,545.0,null,null],[\"2017-06-08\",165.339162,165.339162,162.278913,162.622685,552.0,null,null],[\"2017-06-07\",162.159507,164.771986,161.248558,164.71132,1526.0,null,null],[\"2017-06-06\",164.712283,165.049315,162.738239,163.012679,1689.0,null,null],[\"2017-06-05\",165.296792,165.296792,165.296792,165.296792,0.0,null,null],[\"2017-06-02\",165.188942,166.583291,165.11961,165.296792,1847.0,null,null],[\"2017-06-01\",164.545693,165.276571,164.537026,164.856725,291.0,null,null],[\"2017-05-31\",167.486537,167.614609,163.984294,164.407991,539.0,null,null],[\"2017-05-30\",166.081595,167.839939,165.548122,167.733051,1065.0,null,null],[\"2017-05-29\",166.06041,166.591958,165.81197,166.590995,650.0,null,null],[\"2017-05-26\",164.320363,165.760933,164.081552,165.713749,128.0,null,null],[\"2017-05-25\",163.596226,164.783541,161.688626,164.783541,645.0,null,null],[\"2017-05-24\",164.57073,164.988649,163.219713,163.219713,1004.0,null,null],[\"2017-05-23\",165.581825,165.581825,163.616448,164.812429,1977.0,null,null],[\"2017-05-22\",166.519737,166.519737,163.092604,165.567381,1572.0,null,null],[\"2017-05-19\",168.145193,169.011846,165.90345,165.90345,797.0,null,null],[\"2017-05-18\",166.464849,169.090808,166.154779,167.55298,2998.0,null,null],[\"2017-05-17\",170.257901,170.257901,166.756622,166.756622,2646.0,null,null],[\"2017-05-16\",170.282938,171.404773,170.249235,170.749005,265.0,null,null],[\"2017-05-15\",170.307975,170.437973,169.439395,170.407158,924.0,null,null],[\"2017-05-12\",170.721079,170.763449,169.356582,169.680132,1976.0,0.988837,17.0],[\"2017-05-11\",172.805095,173.194544,170.221779,170.604563,1692.0,null,null],[\"2017-05-10\",174.942782,174.942782,172.060475,172.824139,1094.0,null,null],[\"2017-05-09\",173.481156,175.138935,173.147887,174.966587,1802.0,null,null],[\"2017-05-08\",176.918595,176.918595,173.149791,173.704923,3101.0,null,null],[\"2017-05-05\",174.836136,176.252056,174.155313,175.899742,875.0,null,null],[\"2017-05-04\",174.796143,178.831563,174.252437,174.252437,8258.0,null,null],[\"2017-05-03\",174.25339,174.25339,171.293003,173.395458,1197.0,null,null],[\"2017-05-02\",175.490296,175.688354,174.020101,174.565711,2077.0,null,null],[\"2017-05-01\",175.13703,175.13703,175.13703,175.13703,0.0,null,null],[\"2017-04-28\",175.474109,176.623413,174.642839,175.13703,1261.0,null,null],[\"2017-04-27\",176.155884,176.583421,176.025432,176.583421,357.0,null,null],[\"2017-04-26\",176.582469,177.109035,175.935926,176.286335,1297.0,null,null],[\"2017-04-25\",175.941639,177.064281,175.871176,177.05952,1523.0,null,null],[\"2017-04-24\",174.538097,176.234916,174.293382,175.627413,2715.0,null,null],[\"2017-04-21\",170.091327,172.074758,169.984681,172.074758,947.0,null,null],[\"2017-04-20\",167.847946,169.958972,167.847946,169.958972,225.0,null,null],[\"2017-04-19\",169.201021,169.201021,169.201021,169.201021,0.0,null,null],[\"2017-04-18\",170.132272,171.025435,169.006773,169.201021,689.0,null,null],[\"2017-04-17\",169.258153,169.258153,169.258153,169.258153,0.0,null,null],[\"2017-04-14\",169.258153,169.258153,169.258153,169.258153,0.0,null,null],[\"2017-04-13\",169.021056,169.860895,168.619228,169.258153,620.0,null,null],[\"2017-04-12\",167.740348,169.135319,167.639415,169.135319,1542.0,null,null],[\"2017-04-11\",168.872512,169.388604,166.987158,167.667981,1003.0,null,null],[\"2017-04-10\",169.681882,169.681882,168.425931,168.425931,482.0,null,null],[\"2017-04-07\",167.787958,169.967541,167.388986,169.744727,1449.0,null,null],[\"2017-04-06\",165.920695,168.194547,165.570286,168.194547,1316.0,null,null],[\"2017-04-05\",169.205782,169.205782,167.461353,167.729874,298.0,null,null],[\"2017-04-04\",168.158363,169.238157,167.082378,169.238157,808.0,null,null],[\"2017-04-03\",169.681882,170.817855,167.147128,167.359468,2938.0,null,null],[\"2017-03-31\",169.36956,170.099897,168.822998,169.715209,306.0,null,null],[\"2017-03-30\",169.359086,169.455258,168.539243,168.953449,379.0,null,null],[\"2017-03-29\",170.225587,170.225587,169.102945,169.814237,1066.0,null,null],[\"2017-03-28\",169.396222,169.871369,168.836329,168.836329,508.0,null,null],[\"2017-03-27\",169.110562,169.198165,167.527055,168.973446,1556.0,null,null],[\"2017-03-24\",171.30062,171.30062,169.967541,170.053239,430.0,null,null],[\"2017-03-23\",170.98449,171.301572,169.476207,170.919741,742.0,null,null],[\"2017-03-22\",170.443641,170.824521,169.986585,170.443641,2109.0,null,null],[\"2017-03-21\",172.138555,173.776338,170.8807,171.698639,1828.0,null,null],[\"2017-03-20\",174.585707,174.772338,172.358513,172.763198,2403.0,null,null],[\"2017-03-17\",174.347657,175.068472,173.576376,174.194353,1680.0,null,null],[\"2017-03-16\",172.633699,175.885459,172.252819,174.442877,14356.0,null,null],[\"2017-03-15\",167.396604,171.376796,167.396604,171.376796,4368.0,null,null],[\"2017-03-14\",171.546288,171.546288,166.777674,167.090948,2307.0,null,null],[\"2017-03-13\",171.30062,171.505343,170.426501,171.109228,3849.0,null,null],[\"2017-03-10\",169.967541,171.130177,168.967732,170.512199,2738.0,null,null],[\"2017-03-09\",166.206355,171.193974,165.681693,169.832329,6553.0,null,null],[\"2017-03-08\",157.112853,166.300623,157.112853,166.253965,19993.0,null,null],[\"2017-03-07\",152.425177,152.886994,151.654848,152.351858,1501.0,null,null],[\"2017-03-06\",153.208837,153.796344,152.637518,152.637518,926.0,null,null],[\"2017-03-03\",154.166749,154.451457,153.104095,153.125044,1247.0,null,null],[\"2017-03-02\",152.780348,155.715025,152.146183,155.018015,1228.0,null,null],[\"2017-03-01\",150.855953,153.167893,150.855953,152.786061,1733.0,null,null],[\"2017-02-28\",149.495261,150.922607,149.400041,150.922607,1131.0,null,null],[\"2017-02-27\",146.638663,150.735024,146.543443,150.226549,5358.0,null,null],[\"2017-02-24\",145.32082,145.751214,143.739217,144.754261,837.0,null,null],[\"2017-02-23\",145.59791,146.097814,145.132284,145.58934,354.0,null,null],[\"2017-02-22\",144.733313,145.68456,144.733313,145.641711,1358.0,null,null],[\"2017-02-21\",141.150188,145.317011,141.150188,144.619049,717.0,null,null],[\"2017-02-20\",141.401568,141.893855,141.162566,141.162566,839.0,null,null],[\"2017-02-17\",140.758834,141.490123,139.49717,141.490123,1367.0,null,null],[\"2017-02-16\",142.473744,142.473744,140.894998,140.894998,576.0,null,null],[\"2017-02-15\",143.877286,143.877286,142.050968,142.475649,935.0,null,null],[\"2017-02-14\",143.386903,144.688559,143.386903,143.829676,693.0,null,null],[\"2017-02-13\",142.448987,144.734265,142.448987,143.85729,676.0,null,null],[\"2017-02-10\",141.120669,142.829867,141.120669,142.136666,789.0,null,null],[\"2017-02-09\",137.424232,141.152092,137.424232,140.9607,1954.0,null,null],[\"2017-02-08\",138.211701,138.211701,136.164473,137.246171,1227.0,null,null],[\"2017-02-07\",137.342343,138.57068,136.628194,137.002408,4155.0,null,null],[\"2017-02-06\",140.354149,140.354149,136.577727,136.577727,2142.0,null,null],[\"2017-02-03\",140.072298,140.456987,139.759977,140.217985,410.0,null,null],[\"2017-02-02\",139.973269,141.199702,139.973269,139.996122,771.0,null,null],[\"2017-02-01\",139.849484,141.032115,139.11629,140.277973,1969.0,null,null],[\"2017-01-31\",143.115527,144.735217,138.721128,139.423851,4286.0,null,null],[\"2017-01-30\",145.686464,145.931179,143.020307,143.261213,2940.0,null,null],[\"2017-01-27\",147.915562,148.428798,146.372047,146.372047,1874.0,null,null],[\"2017-01-26\",147.163325,148.086958,147.163325,147.400423,609.0,null,null],[\"2017-01-25\",145.931179,147.960316,145.931179,146.684369,1948.0,null,null],[\"2017-01-24\",145.610288,147.590862,145.498881,145.807393,1821.0,null,null],[\"2017-01-23\",145.019925,145.686464,144.639045,145.162755,1372.0,null,null],[\"2017-01-20\",144.699034,145.436988,142.997454,144.586674,1006.0,null,null],[\"2017-01-19\",144.175324,145.553156,143.486884,144.765688,1465.0,null,null],[\"2017-01-18\",140.563633,144.261022,140.563633,144.235313,1129.0,null,null],[\"2017-01-17\",140.984505,140.984505,139.83044,140.294161,61.0,null,null],[\"2017-01-16\",140.400807,141.442513,140.305587,141.179706,1482.0,null,null],[\"2017-01-13\",139.302921,140.830249,138.543066,140.759786,1264.0,null,null],[\"2017-01-12\",138.646856,139.227698,138.068871,139.227698,566.0,null,null],[\"2017-01-11\",137.954607,138.923946,137.657521,138.923946,434.0,null,null],[\"2017-01-10\",137.307112,138.370718,137.307112,138.083154,364.0,null,null],[\"2017-01-09\",138.735411,138.783021,137.466129,137.747028,1923.0,null,null],[\"2017-01-06\",137.524213,138.067919,136.164473,138.067919,354.0,null,null],[\"2017-01-05\",138.76112,139.44956,137.318538,137.318538,1506.0,null,null],[\"2017-01-04\",141.972888,142.504215,138.771594,138.771594,3538.0,null,null],[\"2017-01-03\",144.684751,144.819011,141.877668,142.190941,1393.0,null,null],[\"2017-01-02\",142.544207,144.574296,142.544207,143.783018,5334.0,null,null]],\"collapse\":null,\"order\":null,\"database_id\":15302}}"
          ]
        }
      ]
    },
    {
      "cell_type": "code",
      "metadata": {
        "id": "WPaLRhk8IB7E",
        "colab": {
          "base_uri": "https://localhost:8080/"
        },
        "outputId": "1971dec4-814e-4207-c882-2ac1ac1c6442"
      },
      "source": [
        "quandl.ApiConfig.api_key = 'kYtaVibfgpWvvnBJz8cQ'\n",
        "df = quandl.get('XFRA/ADS', start_date='2017-01-01', end_date='2017-12-31')\n",
        "print(df)"
      ],
      "execution_count": 19,
      "outputs": [
        {
          "output_type": "stream",
          "name": "stdout",
          "text": [
            "                  Open        High  ...  Adjustment Factor  Adjustment Type\n",
            "Date                                ...                                    \n",
            "2017-01-02  142.544207  144.574296  ...                NaN              NaN\n",
            "2017-01-03  144.684751  144.819011  ...                NaN              NaN\n",
            "2017-01-04  141.972888  142.504215  ...                NaN              NaN\n",
            "2017-01-05  138.761120  139.449560  ...                NaN              NaN\n",
            "2017-01-06  137.524213  138.067919  ...                NaN              NaN\n",
            "...                ...         ...  ...                ...              ...\n",
            "2017-12-25  163.219713  163.219713  ...                NaN              NaN\n",
            "2017-12-26  163.219713  163.219713  ...                NaN              NaN\n",
            "2017-12-27  164.250068  164.250068  ...                NaN              NaN\n",
            "2017-12-28  163.601041  163.601041  ...                NaN              NaN\n",
            "2017-12-29  162.513872  162.513872  ...                NaN              NaN\n",
            "\n",
            "[260 rows x 7 columns]\n"
          ]
        }
      ]
    },
    {
      "cell_type": "code",
      "metadata": {
        "id": "gTh-eNiXIUPV",
        "colab": {
          "base_uri": "https://localhost:8080/"
        },
        "outputId": "fa3e8a2e-0589-47db-bfc5-4c62fd4f3acc"
      },
      "source": [
        "price_open_high = df.sort_values(by='Open',ascending=False)\n",
        "highest_price = price_open_high.iloc[0].High\n",
        "print(highest_price)"
      ],
      "execution_count": 22,
      "outputs": [
        {
          "output_type": "stream",
          "name": "stdout",
          "text": [
            "Open                  191.915568\n",
            "High                  192.384524\n",
            "Low                   190.615588\n",
            "Close                 191.631499\n",
            "Volume               1210.000000\n",
            "Adjustment Factor            NaN\n",
            "Adjustment Type              NaN\n",
            "diff_date               0.284069\n",
            "Name: 2017-08-08 00:00:00, dtype: float64\n"
          ]
        }
      ]
    },
    {
      "cell_type": "code",
      "metadata": {
        "colab": {
          "base_uri": "https://localhost:8080/"
        },
        "id": "ePs-WnSwcg-W",
        "outputId": "3e97e16e-0bc3-4085-8a04-ccd9d6b590ad"
      },
      "source": [
        "price_open_low = df.sort_values(by='Open',ascending=True)\n",
        "lowest_price = price_open_low.iloc[0].High\n",
        "print(lowest_price)"
      ],
      "execution_count": 10,
      "outputs": [
        {
          "output_type": "stream",
          "name": "stdout",
          "text": [
            "138.370718\n"
          ]
        }
      ]
    },
    {
      "cell_type": "code",
      "metadata": {
        "colab": {
          "base_uri": "https://localhost:8080/"
        },
        "id": "Zlvv0Ut8dBU7",
        "outputId": "506a2b03-6d8f-4527-9a2d-39815cdf426f"
      },
      "source": [
        "df['diff'] = df['High'] - df['Low']\n",
        "print(df['diff'].max())"
      ],
      "execution_count": 18,
      "outputs": [
        {
          "output_type": "stream",
          "name": "stdout",
          "text": [
            "10.96412699999999\n"
          ]
        }
      ]
    },
    {
      "cell_type": "code",
      "metadata": {
        "colab": {
          "base_uri": "https://localhost:8080/"
        },
        "id": "R9PuKhxOfeWj",
        "outputId": "a7a41992-9c9b-48cb-d02c-5ec8b6a7455a"
      },
      "source": [
        "df['diff_date'] = df['Open'] - df['Close']\n",
        "print(df['diff_date'].max())"
      ],
      "execution_count": 20,
      "outputs": [
        {
          "output_type": "stream",
          "name": "stdout",
          "text": [
            "9.94340299999999\n"
          ]
        }
      ]
    },
    {
      "cell_type": "code",
      "metadata": {
        "colab": {
          "base_uri": "https://localhost:8080/"
        },
        "id": "uRooWfOehfGl",
        "outputId": "8e67da3b-f37f-4c84-db47-0c151dc52ae9"
      },
      "source": [
        "avg = df['Volume'].mean()\n",
        "print(avg)"
      ],
      "execution_count": 23,
      "outputs": [
        {
          "output_type": "stream",
          "name": "stdout",
          "text": [
            "1638.323076923077\n"
          ]
        }
      ]
    },
    {
      "cell_type": "code",
      "metadata": {
        "colab": {
          "base_uri": "https://localhost:8080/"
        },
        "id": "W18kZJj5h409",
        "outputId": "a7f697da-0235-43d7-8f39-b9dab92d3e48"
      },
      "source": [
        "m_vol = df['Volume'].median()\n",
        "print(m_vol)"
      ],
      "execution_count": 24,
      "outputs": [
        {
          "output_type": "stream",
          "name": "stdout",
          "text": [
            "1130.0\n"
          ]
        }
      ]
    }
  ]
}